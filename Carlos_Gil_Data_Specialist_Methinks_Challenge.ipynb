{
 "cells": [
  {
   "cell_type": "markdown",
   "id": "e8480aac",
   "metadata": {},
   "source": [
    "#  Cleaning and Inventory"
   ]
  },
  {
   "cell_type": "markdown",
   "id": "87700bb9",
   "metadata": {},
   "source": [
    "In this pack there are 326 stroke patients which have a total of 8454 images associated. Using the folder of images that we receive from the hospital X, we create the part1_inventory_test.csv which contains all the metadata of the received images. The initial file format follows the DICOM standard, which you can check here: https://dicom.innolitics.com/ciods. In the part1_inventory_test.csv file each row represents an image in the package, and each column a dicom standard metadata field.\n",
    "\n",
    "In order to apply our deep learning algorithms to this dataset, we first have to select the correct NCCT (Non-Contrast CT) image (out of the many images that we have) for each patient. Selecting the right NCCT is critical to achieve a good performance in the clinical study or to train a good algorithm. \n",
    "\n",
    "The challenge consists on a small simplified version of this task: \n",
    "\n",
    "● Select the correct NCCT image for each of the 326 patients. \n",
    "\n",
    "● The correct NCCT must meet the following characteristics: non-contrast image, CT modality, axial orientation, slice thickness between 2.5 and 5 mm’s, first (in time) NCCT acquired. \n",
    "\n",
    "Some hints on the data: \n",
    "\n",
    "● A patient (PatientID) may have several studies (StudyInstanceUID - group of images), and within the study there can be many images (SeriesInstanceUID - single image).\n",
    "\n",
    "● Each row of the part1_inventory_test.csv is the metadata of the image (unique SeriesInstanceUID). \n",
    "\n",
    "● In this inventory you may find different kinds of image modalities: CT (NCCT or CTA), DWI, MRI, CTP, etc. Note that the DICOM modality column is not enough to complete the exercise, as NCCT and CTA are both CTs.\n",
    "\n",
    "● The most difficult ambiguity to discern using only image metadata is whether the image is an NCCT or a CTA, you have an image above of how they look (A CTA is a CT acquisition with an injection of contrast in the patient's arteries).\n",
    "\n",
    "● Other important data fields: Modality, ImageOrientationPatient, SeriesDescription, StudyDescription, ImageType, SliceThickness, etc. \n",
    "\n",
    "Since we have already solved it, we will provide you with an example of 25 selected NCCT images (example_solution.csv) with some relevant fields, in order to show you an example of how the final result should look like. "
   ]
  },
  {
   "cell_type": "code",
   "execution_count": 41,
   "id": "dbd304e7",
   "metadata": {},
   "outputs": [],
   "source": [
    "import pandas as pd"
   ]
  },
  {
   "cell_type": "code",
   "execution_count": 42,
   "id": "d3fc0d53",
   "metadata": {},
   "outputs": [
    {
     "name": "stdout",
     "output_type": "stream",
     "text": [
      "/home/carlosgil/code/Charlie5545/data-specialist-methinks-challenge/data-specialist-methinks-challenge\r\n"
     ]
    }
   ],
   "source": [
    "!pwd"
   ]
  },
  {
   "cell_type": "code",
   "execution_count": 90,
   "id": "c3705f30",
   "metadata": {},
   "outputs": [],
   "source": [
    "df = pd.read_csv('data/part1_inventory_test.csv',low_memory = False)"
   ]
  },
  {
   "cell_type": "code",
   "execution_count": 91,
   "id": "90186d11",
   "metadata": {},
   "outputs": [
    {
     "name": "stdout",
     "output_type": "stream",
     "text": [
      "<class 'pandas.core.frame.DataFrame'>\n",
      "RangeIndex: 8454 entries, 0 to 8453\n",
      "Columns: 206 entries, PatientID to RouteOfAdmissions\n",
      "dtypes: float64(113), int64(13), object(80)\n",
      "memory usage: 13.3+ MB\n"
     ]
    }
   ],
   "source": [
    "df.info()"
   ]
  },
  {
   "cell_type": "code",
   "execution_count": 131,
   "id": "de81753a",
   "metadata": {},
   "outputs": [],
   "source": [
    "threshold = int(df.shape[0] * 0.3)\n",
    "df_cleaned = df.dropna(axis=1, thresh=threshold)"
   ]
  },
  {
   "cell_type": "code",
   "execution_count": 132,
   "id": "c6901e5b",
   "metadata": {},
   "outputs": [
    {
     "name": "stdout",
     "output_type": "stream",
     "text": [
      "<class 'pandas.core.frame.DataFrame'>\n",
      "RangeIndex: 8454 entries, 0 to 8453\n",
      "Data columns (total 83 columns):\n",
      " #   Column                                   Non-Null Count  Dtype  \n",
      "---  ------                                   --------------  -----  \n",
      " 0   PatientID                                8454 non-null   object \n",
      " 1   StudyInstanceUID                         8454 non-null   object \n",
      " 2   StudyDescription                         8454 non-null   object \n",
      " 3   StudyDate                                8454 non-null   int64  \n",
      " 4   SeriesInstanceUID                        8454 non-null   object \n",
      " 5   SeriesDescription                        8453 non-null   object \n",
      " 6   Manufacturer                             8454 non-null   object \n",
      " 7   Instances                                8454 non-null   int64  \n",
      " 8   LastUpdate                               8454 non-null   object \n",
      " 9   SeriesNumber                             8454 non-null   int64  \n",
      " 10  ContentDate                              8424 non-null   float64\n",
      " 11  ContentTime                              8424 non-null   float64\n",
      " 12  ConvolutionKernel                        5033 non-null   object \n",
      " 13  ImageOrientationPatient                  7709 non-null   object \n",
      " 14  KVP                                      5305 non-null   float64\n",
      " 15  PixelSpacing                             8365 non-null   object \n",
      " 16  SliceThickness                           7410 non-null   float64\n",
      " 17  Modality                                 8454 non-null   object \n",
      " 18  SpecificCharacterSet                     8454 non-null   object \n",
      " 19  ImageType                                8454 non-null   object \n",
      " 20  SOPClassUID                              8454 non-null   object \n",
      " 21  SOPInstanceUID                           8454 non-null   object \n",
      " 22  AccessionNumber                          8454 non-null   int64  \n",
      " 23  ModalitiesInStudy                        8454 non-null   object \n",
      " 24  ManufacturerModelName                    8454 non-null   object \n",
      " 25  IrradiationEventUID                      4849 non-null   object \n",
      " 26  PatientName                              8454 non-null   object \n",
      " 27  PatientComments                          8454 non-null   object \n",
      " 28  PatientIdentityRemoved                   8454 non-null   object \n",
      " 29  DeidentificationMethod                   8454 non-null   object \n",
      " 30  Unknown Tag & Data                       8454 non-null   object \n",
      " 31  BodyPartExamined                         6730 non-null   object \n",
      " 32  DataCollectionDiameter                   4771 non-null   float64\n",
      " 33  SoftwareVersions                         7725 non-null   object \n",
      " 34  ReconstructionDiameter                   4768 non-null   float64\n",
      " 35  DistanceSourceToDetector                 4876 non-null   float64\n",
      " 36  DistanceSourceToPatient                  4876 non-null   float64\n",
      " 37  GantryDetectorTilt                       5277 non-null   float64\n",
      " 38  TableHeight                              5016 non-null   float64\n",
      " 39  RotationDirection                        5001 non-null   object \n",
      " 40  ExposureTime                             4781 non-null   float64\n",
      " 41  XRayTubeCurrent                          4772 non-null   float64\n",
      " 42  Exposure                                 4760 non-null   float64\n",
      " 43  FilterType                               5030 non-null   object \n",
      " 44  GeneratorPower                           5007 non-null   float64\n",
      " 45  FocalSpots                               5014 non-null   object \n",
      " 46  DateOfLastCalibration                    4830 non-null   float64\n",
      " 47  PatientPosition                          7538 non-null   object \n",
      " 48  SingleCollimationWidth                   4733 non-null   float64\n",
      " 49  TotalCollimationWidth                    4733 non-null   float64\n",
      " 50  SpiralPitchFactor                        4670 non-null   float64\n",
      " 51  ExposureModulationType                   4611 non-null   object \n",
      " 52  EstimatedDoseSaving                      4609 non-null   float64\n",
      " 53  CTDIvol                                  4678 non-null   float64\n",
      " 54  CalciumScoringMassFactorDevice           4385 non-null   object \n",
      " 55  AcquisitionNumber                        6829 non-null   float64\n",
      " 56  InstanceNumber                           8454 non-null   int64  \n",
      " 57  ImagePositionPatient                     7709 non-null   object \n",
      " 58  FrameOfReferenceUID                      7554 non-null   object \n",
      " 59  SliceLocation                            6353 non-null   float64\n",
      " 60  NumberOfStudyRelatedInstances            8454 non-null   int64  \n",
      " 61  SamplesPerPixel                          8454 non-null   int64  \n",
      " 62  PhotometricInterpretation                8454 non-null   object \n",
      " 63  Rows                                     8454 non-null   int64  \n",
      " 64  Columns                                  8454 non-null   int64  \n",
      " 65  BitsAllocated                            8454 non-null   int64  \n",
      " 66  BitsStored                               8454 non-null   int64  \n",
      " 67  HighBit                                  8454 non-null   int64  \n",
      " 68  PixelRepresentation                      8454 non-null   int64  \n",
      " 69  LongitudinalTemporalInformationModified  8454 non-null   object \n",
      " 70  WindowCenter                             6987 non-null   object \n",
      " 71  WindowWidth                              6987 non-null   object \n",
      " 72  RescaleIntercept                         5437 non-null   float64\n",
      " 73  RescaleSlope                             5437 non-null   float64\n",
      " 74  RescaleType                              5234 non-null   object \n",
      " 75  WindowCenterWidthExplanation             6372 non-null   object \n",
      " 76  DataCollectionCenterPatient              3385 non-null   object \n",
      " 77  ReconstructionTargetCenterPatient        4248 non-null   object \n",
      " 78  SmallestImagePixelValue                  5605 non-null   float64\n",
      " 79  LargestImagePixelValue                   5605 non-null   float64\n",
      " 80  ScanOptions                              3869 non-null   object \n",
      " 81  InstanceCreationDate                     2593 non-null   float64\n",
      " 82  InstanceCreationTime                     2593 non-null   float64\n",
      "dtypes: float64(28), int64(13), object(42)\n",
      "memory usage: 5.4+ MB\n"
     ]
    }
   ],
   "source": [
    "df_cleaned.info()"
   ]
  },
  {
   "cell_type": "code",
   "execution_count": 133,
   "id": "34a677ff",
   "metadata": {},
   "outputs": [
    {
     "name": "stdout",
     "output_type": "stream",
     "text": [
      "Removed columns: Index(['AcquisitionMatrix', 'AcquisitionType', 'AngioFlag',\n",
      "       'AveragePulseWidth', 'BurnedInAnnotation',\n",
      "       'CTAdditionalXRaySourceSequence', 'CTDIPhantomTypeCodeSequence',\n",
      "       'CineRate', 'ConfidentialityCode', 'ContrastBolusAgent',\n",
      "       ...\n",
      "       'TablePosition', 'TableSpeed', 'TemporalPositionIndex',\n",
      "       'TransmitCoilName', 'TubeAngle', 'TypeOfPatientID', 'Units',\n",
      "       'VOILUTFunction', 'VariableFlipAngleFlag', 'dBdt'],\n",
      "      dtype='object', length=123)\n"
     ]
    }
   ],
   "source": [
    "# Get the original list of columns\n",
    "original_columns = df.columns\n",
    "\n",
    "# Get the new list of columns after dropping\n",
    "new_columns = df_cleaned.columns\n",
    "\n",
    "# Find the columns that were removed\n",
    "removed_columns = original_columns.difference(new_columns)\n",
    "\n",
    "print(\"Removed columns:\", removed_columns)"
   ]
  },
  {
   "cell_type": "code",
   "execution_count": 134,
   "id": "4916b92e",
   "metadata": {},
   "outputs": [],
   "source": [
    "solution_df = pd.read_csv('data/example_solution.csv',low_memory = False)"
   ]
  },
  {
   "cell_type": "code",
   "execution_count": 135,
   "id": "1d188124",
   "metadata": {},
   "outputs": [
    {
     "name": "stdout",
     "output_type": "stream",
     "text": [
      "<class 'pandas.core.frame.DataFrame'>\n",
      "RangeIndex: 25 entries, 0 to 24\n",
      "Data columns (total 8 columns):\n",
      " #   Column             Non-Null Count  Dtype  \n",
      "---  ------             --------------  -----  \n",
      " 0   PatientID          25 non-null     object \n",
      " 1   StudyInstanceUID   25 non-null     object \n",
      " 2   SeriesInstanceUID  25 non-null     object \n",
      " 3   StudyDescription   25 non-null     object \n",
      " 4   SeriesDescription  25 non-null     object \n",
      " 5   PixelSpacing       25 non-null     object \n",
      " 6   SliceThickness     25 non-null     float64\n",
      " 7   ConvolutionKernel  25 non-null     object \n",
      "dtypes: float64(1), object(7)\n",
      "memory usage: 1.7+ KB\n"
     ]
    }
   ],
   "source": [
    "solution_df.info()"
   ]
  },
  {
   "cell_type": "code",
   "execution_count": 12,
   "id": "22cf193c",
   "metadata": {},
   "outputs": [
    {
     "data": {
      "text/plain": [
       "Index(['PatientID', 'StudyInstanceUID', 'SeriesInstanceUID',\n",
       "       'StudyDescription', 'SeriesDescription', 'PixelSpacing',\n",
       "       'SliceThickness', 'ConvolutionKernel'],\n",
       "      dtype='object')"
      ]
     },
     "execution_count": 12,
     "metadata": {},
     "output_type": "execute_result"
    }
   ],
   "source": [
    "solution_df.columns"
   ]
  },
  {
   "cell_type": "code",
   "execution_count": 77,
   "id": "ede537f4",
   "metadata": {},
   "outputs": [
    {
     "data": {
      "text/plain": [
       "PatientID            0\n",
       "StudyInstanceUID     0\n",
       "SeriesInstanceUID    0\n",
       "StudyDescription     0\n",
       "SeriesDescription    0\n",
       "PixelSpacing         0\n",
       "SliceThickness       0\n",
       "ConvolutionKernel    0\n",
       "dtype: int64"
      ]
     },
     "execution_count": 77,
     "metadata": {},
     "output_type": "execute_result"
    }
   ],
   "source": [
    "solution_df.isnull().sum()"
   ]
  },
  {
   "cell_type": "code",
   "execution_count": 60,
   "id": "2a37a628",
   "metadata": {},
   "outputs": [
    {
     "ename": "KeyError",
     "evalue": "\"['SeriesDescription', 'PixelSpacing', 'SliceThickness', 'ConvolutionKernel'] not in index\"",
     "output_type": "error",
     "traceback": [
      "\u001b[0;31m---------------------------------------------------------------------------\u001b[0m",
      "\u001b[0;31mKeyError\u001b[0m                                  Traceback (most recent call last)",
      "Cell \u001b[0;32mIn [60], line 1\u001b[0m\n\u001b[0;32m----> 1\u001b[0m filtered_df \u001b[38;5;241m=\u001b[39m \u001b[43munfiltered_df\u001b[49m\u001b[43m[\u001b[49m\u001b[43msolution_df\u001b[49m\u001b[38;5;241;43m.\u001b[39;49m\u001b[43mcolumns\u001b[49m\u001b[43m]\u001b[49m\n",
      "File \u001b[0;32m~/.pyenv/versions/3.10.6/envs/lewagon/lib/python3.10/site-packages/pandas/core/frame.py:3511\u001b[0m, in \u001b[0;36mDataFrame.__getitem__\u001b[0;34m(self, key)\u001b[0m\n\u001b[1;32m   3509\u001b[0m     \u001b[38;5;28;01mif\u001b[39;00m is_iterator(key):\n\u001b[1;32m   3510\u001b[0m         key \u001b[38;5;241m=\u001b[39m \u001b[38;5;28mlist\u001b[39m(key)\n\u001b[0;32m-> 3511\u001b[0m     indexer \u001b[38;5;241m=\u001b[39m \u001b[38;5;28;43mself\u001b[39;49m\u001b[38;5;241;43m.\u001b[39;49m\u001b[43mcolumns\u001b[49m\u001b[38;5;241;43m.\u001b[39;49m\u001b[43m_get_indexer_strict\u001b[49m\u001b[43m(\u001b[49m\u001b[43mkey\u001b[49m\u001b[43m,\u001b[49m\u001b[43m \u001b[49m\u001b[38;5;124;43m\"\u001b[39;49m\u001b[38;5;124;43mcolumns\u001b[39;49m\u001b[38;5;124;43m\"\u001b[39;49m\u001b[43m)\u001b[49m[\u001b[38;5;241m1\u001b[39m]\n\u001b[1;32m   3513\u001b[0m \u001b[38;5;66;03m# take() does not accept boolean indexers\u001b[39;00m\n\u001b[1;32m   3514\u001b[0m \u001b[38;5;28;01mif\u001b[39;00m \u001b[38;5;28mgetattr\u001b[39m(indexer, \u001b[38;5;124m\"\u001b[39m\u001b[38;5;124mdtype\u001b[39m\u001b[38;5;124m\"\u001b[39m, \u001b[38;5;28;01mNone\u001b[39;00m) \u001b[38;5;241m==\u001b[39m \u001b[38;5;28mbool\u001b[39m:\n",
      "File \u001b[0;32m~/.pyenv/versions/3.10.6/envs/lewagon/lib/python3.10/site-packages/pandas/core/indexes/base.py:5796\u001b[0m, in \u001b[0;36mIndex._get_indexer_strict\u001b[0;34m(self, key, axis_name)\u001b[0m\n\u001b[1;32m   5793\u001b[0m \u001b[38;5;28;01melse\u001b[39;00m:\n\u001b[1;32m   5794\u001b[0m     keyarr, indexer, new_indexer \u001b[38;5;241m=\u001b[39m \u001b[38;5;28mself\u001b[39m\u001b[38;5;241m.\u001b[39m_reindex_non_unique(keyarr)\n\u001b[0;32m-> 5796\u001b[0m \u001b[38;5;28;43mself\u001b[39;49m\u001b[38;5;241;43m.\u001b[39;49m\u001b[43m_raise_if_missing\u001b[49m\u001b[43m(\u001b[49m\u001b[43mkeyarr\u001b[49m\u001b[43m,\u001b[49m\u001b[43m \u001b[49m\u001b[43mindexer\u001b[49m\u001b[43m,\u001b[49m\u001b[43m \u001b[49m\u001b[43maxis_name\u001b[49m\u001b[43m)\u001b[49m\n\u001b[1;32m   5798\u001b[0m keyarr \u001b[38;5;241m=\u001b[39m \u001b[38;5;28mself\u001b[39m\u001b[38;5;241m.\u001b[39mtake(indexer)\n\u001b[1;32m   5799\u001b[0m \u001b[38;5;28;01mif\u001b[39;00m \u001b[38;5;28misinstance\u001b[39m(key, Index):\n\u001b[1;32m   5800\u001b[0m     \u001b[38;5;66;03m# GH 42790 - Preserve name from an Index\u001b[39;00m\n",
      "File \u001b[0;32m~/.pyenv/versions/3.10.6/envs/lewagon/lib/python3.10/site-packages/pandas/core/indexes/base.py:5859\u001b[0m, in \u001b[0;36mIndex._raise_if_missing\u001b[0;34m(self, key, indexer, axis_name)\u001b[0m\n\u001b[1;32m   5856\u001b[0m     \u001b[38;5;28;01mraise\u001b[39;00m \u001b[38;5;167;01mKeyError\u001b[39;00m(\u001b[38;5;124mf\u001b[39m\u001b[38;5;124m\"\u001b[39m\u001b[38;5;124mNone of [\u001b[39m\u001b[38;5;132;01m{\u001b[39;00mkey\u001b[38;5;132;01m}\u001b[39;00m\u001b[38;5;124m] are in the [\u001b[39m\u001b[38;5;132;01m{\u001b[39;00maxis_name\u001b[38;5;132;01m}\u001b[39;00m\u001b[38;5;124m]\u001b[39m\u001b[38;5;124m\"\u001b[39m)\n\u001b[1;32m   5858\u001b[0m not_found \u001b[38;5;241m=\u001b[39m \u001b[38;5;28mlist\u001b[39m(ensure_index(key)[missing_mask\u001b[38;5;241m.\u001b[39mnonzero()[\u001b[38;5;241m0\u001b[39m]]\u001b[38;5;241m.\u001b[39munique())\n\u001b[0;32m-> 5859\u001b[0m \u001b[38;5;28;01mraise\u001b[39;00m \u001b[38;5;167;01mKeyError\u001b[39;00m(\u001b[38;5;124mf\u001b[39m\u001b[38;5;124m\"\u001b[39m\u001b[38;5;132;01m{\u001b[39;00mnot_found\u001b[38;5;132;01m}\u001b[39;00m\u001b[38;5;124m not in index\u001b[39m\u001b[38;5;124m\"\u001b[39m)\n",
      "\u001b[0;31mKeyError\u001b[0m: \"['SeriesDescription', 'PixelSpacing', 'SliceThickness', 'ConvolutionKernel'] not in index\""
     ]
    }
   ],
   "source": [
    "filtered_df = unfiltered_df[solution_df.columns]"
   ]
  },
  {
   "cell_type": "code",
   "execution_count": null,
   "id": "bb2375f4",
   "metadata": {},
   "outputs": [],
   "source": []
  },
  {
   "cell_type": "code",
   "execution_count": null,
   "id": "e7ceb882",
   "metadata": {},
   "outputs": [],
   "source": []
  },
  {
   "cell_type": "code",
   "execution_count": null,
   "id": "c819e090",
   "metadata": {},
   "outputs": [],
   "source": []
  },
  {
   "cell_type": "code",
   "execution_count": 37,
   "id": "0115e2a7",
   "metadata": {},
   "outputs": [
    {
     "data": {
      "text/plain": [
       "7"
      ]
     },
     "execution_count": 37,
     "metadata": {},
     "output_type": "execute_result"
    }
   ],
   "source": [
    "solution_df.StudyDescription.unique().size"
   ]
  },
  {
   "cell_type": "code",
   "execution_count": 36,
   "id": "ca85fcfd",
   "metadata": {},
   "outputs": [
    {
     "data": {
      "text/plain": [
       "13"
      ]
     },
     "execution_count": 36,
     "metadata": {},
     "output_type": "execute_result"
    }
   ],
   "source": [
    "solution_df.SeriesDescription.unique().size"
   ]
  },
  {
   "cell_type": "code",
   "execution_count": 38,
   "id": "7d5589f5",
   "metadata": {},
   "outputs": [
    {
     "data": {
      "text/plain": [
       "17"
      ]
     },
     "execution_count": 38,
     "metadata": {},
     "output_type": "execute_result"
    }
   ],
   "source": [
    "solution_df.PixelSpacing.unique().size"
   ]
  },
  {
   "cell_type": "code",
   "execution_count": 40,
   "id": "01696142",
   "metadata": {},
   "outputs": [
    {
     "data": {
      "text/plain": [
       "array([5.  , 3.  , 3.75])"
      ]
     },
     "execution_count": 40,
     "metadata": {},
     "output_type": "execute_result"
    }
   ],
   "source": [
    "solution_df.SliceThickness.unique()"
   ]
  },
  {
   "cell_type": "code",
   "execution_count": 32,
   "id": "f76292f2",
   "metadata": {},
   "outputs": [
    {
     "data": {
      "text/plain": [
       "array(['1.3.12.2.1107.5.1.4.326841954957759929311289542521699260521',\n",
       "       '1.3.12.2.1107.5.1.4.238857691497332572709100675877600626548',\n",
       "       '1.3.12.2.1107.5.1.4.167235305454598923027682309313262206041',\n",
       "       '1.3.12.2.1107.5.1.4.97427260740542717980461021888564870593',\n",
       "       '1.3.12.2.1107.5.1.4.105076704470053803362550393506575745220',\n",
       "       '1.3.12.2.1107.5.1.4.46104404406294049309673197744443069356',\n",
       "       '1.3.12.2.1107.5.1.4.171298045711787897636307998027206005333',\n",
       "       '1.3.12.2.1107.5.1.4.298158445625631474037403991027935234555',\n",
       "       '1.3.12.2.1107.5.1.4.87689265667367200807072424104807954004',\n",
       "       '1.3.12.2.1107.5.1.4.244637133215950936685061510712113215344',\n",
       "       '1.3.12.2.1107.5.1.4.74059431288974628151054094532771979282',\n",
       "       '1.3.12.2.1107.5.1.4.92814992245386364185969317284217509548',\n",
       "       '1.3.12.2.1107.5.1.4.141223865578061624423976536064915077257',\n",
       "       '1.3.12.2.1107.5.1.4.315776492648473720424017194932502913545',\n",
       "       '1.3.12.2.1107.5.1.4.121287004717724450633564987705278883176',\n",
       "       '1.3.12.2.1107.5.1.4.188448227008348361119565285678967106938',\n",
       "       '1.3.12.2.1107.5.1.4.7166591705878448737866398240565911908',\n",
       "       '1.3.12.2.1107.5.1.4.112124531191371135581129140565607056591',\n",
       "       '1.3.12.2.1107.5.1.4.257447647658424100481058381864665393331',\n",
       "       '1.3.12.2.1107.5.1.4.55310721004101065623387228518457663704',\n",
       "       '1.3.12.2.1107.5.1.4.144927514381165763072159968788432094774',\n",
       "       '1.3.12.2.1107.5.1.4.83012796487859443904119772032079539711',\n",
       "       '1.3.12.2.1107.5.1.4.87813913004484580227313511218822642830',\n",
       "       '1.3.12.2.1107.5.1.4.101235577794061933752294438682587860311',\n",
       "       '1.3.12.2.1107.5.1.4.284508250734563553061942866742884805507'],\n",
       "      dtype=object)"
      ]
     },
     "execution_count": 32,
     "metadata": {},
     "output_type": "execute_result"
    }
   ],
   "source": [
    "solution_df.StudyInstanceUID.unique()"
   ]
  },
  {
   "cell_type": "code",
   "execution_count": null,
   "id": "4cb6f6b2",
   "metadata": {},
   "outputs": [],
   "source": []
  },
  {
   "cell_type": "code",
   "execution_count": null,
   "id": "d693c498",
   "metadata": {},
   "outputs": [],
   "source": []
  },
  {
   "cell_type": "code",
   "execution_count": null,
   "id": "57d6f513",
   "metadata": {},
   "outputs": [],
   "source": []
  },
  {
   "cell_type": "code",
   "execution_count": null,
   "id": "bac84e21",
   "metadata": {},
   "outputs": [],
   "source": []
  }
 ],
 "metadata": {
  "kernelspec": {
   "display_name": "Python 3 (ipykernel)",
   "language": "python",
   "name": "python3"
  },
  "language_info": {
   "codemirror_mode": {
    "name": "ipython",
    "version": 3
   },
   "file_extension": ".py",
   "mimetype": "text/x-python",
   "name": "python",
   "nbconvert_exporter": "python",
   "pygments_lexer": "ipython3",
   "version": "3.10.6"
  },
  "toc": {
   "base_numbering": 1,
   "nav_menu": {},
   "number_sections": true,
   "sideBar": true,
   "skip_h1_title": false,
   "title_cell": "Table of Contents",
   "title_sidebar": "Contents",
   "toc_cell": false,
   "toc_position": {},
   "toc_section_display": true,
   "toc_window_display": false
  }
 },
 "nbformat": 4,
 "nbformat_minor": 5
}
