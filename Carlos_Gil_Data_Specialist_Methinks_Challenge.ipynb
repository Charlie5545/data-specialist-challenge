{
 "cells": [
  {
   "cell_type": "markdown",
   "id": "e8480aac",
   "metadata": {},
   "source": [
    "#  Cleaning and Inventory"
   ]
  },
  {
   "cell_type": "markdown",
   "id": "87700bb9",
   "metadata": {},
   "source": [
    "In this pack there are 326 stroke patients which have a total of 8454 images associated. Using the folder of images that we receive from the hospital X, we create the part1_inventory_test.csv which contains all the metadata of the received images. The initial file format follows the DICOM standard, which you can check here: https://dicom.innolitics.com/ciods. In the part1_inventory_test.csv file each row represents an image in the package, and each column a dicom standard metadata field.\n",
    "\n",
    "In order to apply our deep learning algorithms to this dataset, we first have to select the correct NCCT (Non-Contrast CT) image (out of the many images that we have) for each patient. Selecting the right NCCT is critical to achieve a good performance in the clinical study or to train a good algorithm. \n",
    "\n",
    "The challenge consists on a small simplified version of this task: \n",
    "\n",
    "● Select the correct NCCT image for each of the 326 patients. \n",
    "\n",
    "● The correct NCCT must meet the following characteristics: non-contrast image, CT modality, axial orientation, slice thickness between 2.5 and 5 mm’s, first (in time) NCCT acquired. \n",
    "\n",
    "Some hints on the data: \n",
    "\n",
    "● A patient (PatientID) may have several studies (StudyInstanceUID - group of images), and within the study there can be many images (SeriesInstanceUID - single image).\n",
    "\n",
    "● Each row of the part1_inventory_test.csv is the metadata of the image (unique SeriesInstanceUID). \n",
    "\n",
    "● In this inventory you may find different kinds of image modalities: CT (NCCT or CTA), DWI, MRI, CTP, etc. Note that the DICOM modality column is not enough to complete the exercise, as NCCT and CTA are both CTs.\n",
    "\n",
    "● The most difficult ambiguity to discern using only image metadata is whether the image is an NCCT or a CTA, you have an image above of how they look (A CTA is a CT acquisition with an injection of contrast in the patient's arteries).\n",
    "\n",
    "● Other important data fields: Modality, ImageOrientationPatient, SeriesDescription, StudyDescription, ImageType, SliceThickness, etc. \n",
    "\n",
    "Since we have already solved it, we will provide you with an example of 25 selected NCCT images (example_solution.csv) with some relevant fields, in order to show you an example of how the final result should look like. "
   ]
  },
  {
   "cell_type": "markdown",
   "id": "cb725453",
   "metadata": {},
   "source": [
    "### Data Loading"
   ]
  },
  {
   "cell_type": "code",
   "execution_count": 1,
   "id": "dbd304e7",
   "metadata": {},
   "outputs": [],
   "source": [
    "import pandas as pd"
   ]
  },
  {
   "cell_type": "code",
   "execution_count": 3,
   "id": "c3705f30",
   "metadata": {},
   "outputs": [],
   "source": [
    "df = pd.read_csv('data/part1_inventory_test.csv',low_memory = False)"
   ]
  },
  {
   "cell_type": "code",
   "execution_count": 4,
   "id": "90186d11",
   "metadata": {},
   "outputs": [
    {
     "name": "stdout",
     "output_type": "stream",
     "text": [
      "<class 'pandas.core.frame.DataFrame'>\n",
      "RangeIndex: 8454 entries, 0 to 8453\n",
      "Columns: 206 entries, PatientID to RouteOfAdmissions\n",
      "dtypes: float64(113), int64(13), object(80)\n",
      "memory usage: 13.3+ MB\n"
     ]
    }
   ],
   "source": [
    "df.info()"
   ]
  },
  {
   "cell_type": "code",
   "execution_count": 5,
   "id": "eb06e17a",
   "metadata": {},
   "outputs": [],
   "source": [
    "solution_df = pd.read_csv('data/example_solution.csv',low_memory = False)"
   ]
  },
  {
   "cell_type": "code",
   "execution_count": 6,
   "id": "2c6f0588",
   "metadata": {},
   "outputs": [
    {
     "name": "stdout",
     "output_type": "stream",
     "text": [
      "<class 'pandas.core.frame.DataFrame'>\n",
      "RangeIndex: 25 entries, 0 to 24\n",
      "Data columns (total 8 columns):\n",
      " #   Column             Non-Null Count  Dtype  \n",
      "---  ------             --------------  -----  \n",
      " 0   PatientID          25 non-null     object \n",
      " 1   StudyInstanceUID   25 non-null     object \n",
      " 2   SeriesInstanceUID  25 non-null     object \n",
      " 3   StudyDescription   25 non-null     object \n",
      " 4   SeriesDescription  25 non-null     object \n",
      " 5   PixelSpacing       25 non-null     object \n",
      " 6   SliceThickness     25 non-null     float64\n",
      " 7   ConvolutionKernel  25 non-null     object \n",
      "dtypes: float64(1), object(7)\n",
      "memory usage: 1.7+ KB\n"
     ]
    }
   ],
   "source": [
    "solution_df.info()"
   ]
  },
  {
   "cell_type": "code",
   "execution_count": 7,
   "id": "94f37f44",
   "metadata": {},
   "outputs": [
    {
     "data": {
      "text/plain": [
       "['PatientID',\n",
       " 'StudyInstanceUID',\n",
       " 'SeriesInstanceUID',\n",
       " 'StudyDescription',\n",
       " 'SeriesDescription',\n",
       " 'PixelSpacing',\n",
       " 'SliceThickness',\n",
       " 'ConvolutionKernel',\n",
       " 'ImageOrientationPatient',\n",
       " 'Modality',\n",
       " 'InstanceCreationDate',\n",
       " 'InstanceCreationTime']"
      ]
     },
     "execution_count": 7,
     "metadata": {},
     "output_type": "execute_result"
    }
   ],
   "source": [
    "filtered_columns = list(solution_df.columns) + ['ImageOrientationPatient','Modality','InstanceCreationDate','InstanceCreationTime']\n",
    "filtered_columns"
   ]
  },
  {
   "cell_type": "code",
   "execution_count": 8,
   "id": "a657016a",
   "metadata": {},
   "outputs": [],
   "source": [
    "df = df[filtered_columns]"
   ]
  },
  {
   "cell_type": "code",
   "execution_count": 9,
   "id": "93935264",
   "metadata": {},
   "outputs": [
    {
     "name": "stdout",
     "output_type": "stream",
     "text": [
      "<class 'pandas.core.frame.DataFrame'>\n",
      "RangeIndex: 8454 entries, 0 to 8453\n",
      "Data columns (total 12 columns):\n",
      " #   Column                   Non-Null Count  Dtype  \n",
      "---  ------                   --------------  -----  \n",
      " 0   PatientID                8454 non-null   object \n",
      " 1   StudyInstanceUID         8454 non-null   object \n",
      " 2   SeriesInstanceUID        8454 non-null   object \n",
      " 3   StudyDescription         8454 non-null   object \n",
      " 4   SeriesDescription        8453 non-null   object \n",
      " 5   PixelSpacing             8365 non-null   object \n",
      " 6   SliceThickness           7410 non-null   float64\n",
      " 7   ConvolutionKernel        5033 non-null   object \n",
      " 8   ImageOrientationPatient  7709 non-null   object \n",
      " 9   Modality                 8454 non-null   object \n",
      " 10  InstanceCreationDate     2593 non-null   float64\n",
      " 11  InstanceCreationTime     2593 non-null   float64\n",
      "dtypes: float64(3), object(9)\n",
      "memory usage: 792.7+ KB\n"
     ]
    }
   ],
   "source": [
    "df.info()"
   ]
  },
  {
   "cell_type": "markdown",
   "id": "9be6c940",
   "metadata": {},
   "source": [
    "### Removing columns with < 30% NaN's "
   ]
  },
  {
   "cell_type": "code",
   "execution_count": 10,
   "id": "49574e1b",
   "metadata": {},
   "outputs": [],
   "source": [
    "threshold = int(df.shape[0] * 0.3)\n",
    "df = df.dropna(axis=1, thresh=threshold)"
   ]
  },
  {
   "cell_type": "code",
   "execution_count": 11,
   "id": "2f4eb767",
   "metadata": {},
   "outputs": [
    {
     "name": "stdout",
     "output_type": "stream",
     "text": [
      "<class 'pandas.core.frame.DataFrame'>\n",
      "RangeIndex: 8454 entries, 0 to 8453\n",
      "Data columns (total 12 columns):\n",
      " #   Column                   Non-Null Count  Dtype  \n",
      "---  ------                   --------------  -----  \n",
      " 0   PatientID                8454 non-null   object \n",
      " 1   StudyInstanceUID         8454 non-null   object \n",
      " 2   SeriesInstanceUID        8454 non-null   object \n",
      " 3   StudyDescription         8454 non-null   object \n",
      " 4   SeriesDescription        8453 non-null   object \n",
      " 5   PixelSpacing             8365 non-null   object \n",
      " 6   SliceThickness           7410 non-null   float64\n",
      " 7   ConvolutionKernel        5033 non-null   object \n",
      " 8   ImageOrientationPatient  7709 non-null   object \n",
      " 9   Modality                 8454 non-null   object \n",
      " 10  InstanceCreationDate     2593 non-null   float64\n",
      " 11  InstanceCreationTime     2593 non-null   float64\n",
      "dtypes: float64(3), object(9)\n",
      "memory usage: 792.7+ KB\n"
     ]
    }
   ],
   "source": [
    "df.info()"
   ]
  },
  {
   "cell_type": "markdown",
   "id": "078ae0ec",
   "metadata": {},
   "source": [
    "## Modality == 'CT'"
   ]
  },
  {
   "cell_type": "code",
   "execution_count": 12,
   "id": "ced56dcc",
   "metadata": {},
   "outputs": [
    {
     "data": {
      "text/plain": [
       "array(['CT', 'MR', 'OT', 'XA'], dtype=object)"
      ]
     },
     "execution_count": 12,
     "metadata": {},
     "output_type": "execute_result"
    }
   ],
   "source": [
    "df.Modality.unique()"
   ]
  },
  {
   "cell_type": "code",
   "execution_count": 13,
   "id": "36bfb617",
   "metadata": {},
   "outputs": [],
   "source": [
    "modality_df = df[df.Modality == 'CT']"
   ]
  },
  {
   "cell_type": "code",
   "execution_count": 14,
   "id": "b830285f",
   "metadata": {},
   "outputs": [
    {
     "data": {
      "text/plain": [
       "326"
      ]
     },
     "execution_count": 14,
     "metadata": {},
     "output_type": "execute_result"
    }
   ],
   "source": [
    "modality_df.PatientID.unique().size"
   ]
  },
  {
   "cell_type": "markdown",
   "id": "5617bc3e",
   "metadata": {},
   "source": [
    "## Axial Orientation == ['1', '0', '0', '0', '1', '0']"
   ]
  },
  {
   "cell_type": "code",
   "execution_count": 15,
   "id": "4d63757f",
   "metadata": {},
   "outputs": [
    {
     "data": {
      "text/plain": [
       "306"
      ]
     },
     "execution_count": 15,
     "metadata": {},
     "output_type": "execute_result"
    }
   ],
   "source": [
    "df[df.ImageOrientationPatient == '1\\\\0\\\\0\\\\0\\\\1\\\\0'].PatientID.unique().size"
   ]
  },
  {
   "cell_type": "markdown",
   "id": "4f4c62a1",
   "metadata": {},
   "source": [
    "Defining 0.15 tolerance for Axial Orientation"
   ]
  },
  {
   "cell_type": "code",
   "execution_count": 16,
   "id": "3792bcf1",
   "metadata": {},
   "outputs": [],
   "source": [
    "def tolerance(value, target, tolerance=0.15):\n",
    "    if pd.isna(value):  # Check for NaN\n",
    "        return False\n",
    "    \n",
    "    # Convert value to string and split\n",
    "    components = list(map(float, str(value).split('\\\\')))\n",
    "    target_components = list(map(float, target.split('\\\\')))\n",
    "    \n",
    "    return all(abs(comp - tgt) <= tolerance for comp, tgt in zip(components, target_components))\n",
    "\n",
    "# Target string to compare against\n",
    "target_value = '1\\\\0\\\\0\\\\0\\\\1\\\\0'\n",
    "\n",
    "# Filtering the DataFrame based on closeness to the target value\n",
    "axial_df = modality_df[modality_df.ImageOrientationPatient.apply(lambda x: tolerance(x, target_value))]"
   ]
  },
  {
   "cell_type": "code",
   "execution_count": 17,
   "id": "2495330b",
   "metadata": {},
   "outputs": [
    {
     "data": {
      "text/plain": [
       "324"
      ]
     },
     "execution_count": 17,
     "metadata": {},
     "output_type": "execute_result"
    }
   ],
   "source": [
    "axial_df.PatientID.unique().size"
   ]
  },
  {
   "cell_type": "code",
   "execution_count": 18,
   "id": "640ad3ee",
   "metadata": {},
   "outputs": [
    {
     "name": "stdout",
     "output_type": "stream",
     "text": [
      "<class 'pandas.core.frame.DataFrame'>\n",
      "Int64Index: 4433 entries, 1 to 8447\n",
      "Data columns (total 12 columns):\n",
      " #   Column                   Non-Null Count  Dtype  \n",
      "---  ------                   --------------  -----  \n",
      " 0   PatientID                4433 non-null   object \n",
      " 1   StudyInstanceUID         4433 non-null   object \n",
      " 2   SeriesInstanceUID        4433 non-null   object \n",
      " 3   StudyDescription         4433 non-null   object \n",
      " 4   SeriesDescription        4433 non-null   object \n",
      " 5   PixelSpacing             4433 non-null   object \n",
      " 6   SliceThickness           4403 non-null   float64\n",
      " 7   ConvolutionKernel        3273 non-null   object \n",
      " 8   ImageOrientationPatient  4433 non-null   object \n",
      " 9   Modality                 4433 non-null   object \n",
      " 10  InstanceCreationDate     317 non-null    float64\n",
      " 11  InstanceCreationTime     317 non-null    float64\n",
      "dtypes: float64(3), object(9)\n",
      "memory usage: 450.2+ KB\n"
     ]
    }
   ],
   "source": [
    "axial_df.info()"
   ]
  },
  {
   "cell_type": "markdown",
   "id": "dc5b6dd8",
   "metadata": {},
   "source": [
    "## Slice Thickness between 2.5 and 5 mm"
   ]
  },
  {
   "cell_type": "code",
   "execution_count": 19,
   "id": "92df481e",
   "metadata": {},
   "outputs": [],
   "source": [
    "thickness_df = axial_df[(axial_df.SliceThickness >= 2.5) & (axial_df.SliceThickness <= 5)]"
   ]
  },
  {
   "cell_type": "code",
   "execution_count": 20,
   "id": "20d06864",
   "metadata": {},
   "outputs": [
    {
     "data": {
      "text/plain": [
       "313"
      ]
     },
     "execution_count": 20,
     "metadata": {},
     "output_type": "execute_result"
    }
   ],
   "source": [
    "thickness_df.PatientID.unique().size"
   ]
  },
  {
   "cell_type": "code",
   "execution_count": 21,
   "id": "74fa5ed8",
   "metadata": {},
   "outputs": [
    {
     "name": "stdout",
     "output_type": "stream",
     "text": [
      "<class 'pandas.core.frame.DataFrame'>\n",
      "Int64Index: 965 entries, 1 to 8407\n",
      "Data columns (total 12 columns):\n",
      " #   Column                   Non-Null Count  Dtype  \n",
      "---  ------                   --------------  -----  \n",
      " 0   PatientID                965 non-null    object \n",
      " 1   StudyInstanceUID         965 non-null    object \n",
      " 2   SeriesInstanceUID        965 non-null    object \n",
      " 3   StudyDescription         965 non-null    object \n",
      " 4   SeriesDescription        965 non-null    object \n",
      " 5   PixelSpacing             965 non-null    object \n",
      " 6   SliceThickness           965 non-null    float64\n",
      " 7   ConvolutionKernel        786 non-null    object \n",
      " 8   ImageOrientationPatient  965 non-null    object \n",
      " 9   Modality                 965 non-null    object \n",
      " 10  InstanceCreationDate     17 non-null     float64\n",
      " 11  InstanceCreationTime     17 non-null     float64\n",
      "dtypes: float64(3), object(9)\n",
      "memory usage: 98.0+ KB\n"
     ]
    }
   ],
   "source": [
    "thickness_df.info()"
   ]
  },
  {
   "cell_type": "markdown",
   "id": "9bddbf45",
   "metadata": {},
   "source": [
    "## Series Description containing 'Head' or 'Brain'"
   ]
  },
  {
   "cell_type": "code",
   "execution_count": 22,
   "id": "de6aa5c8",
   "metadata": {},
   "outputs": [
    {
     "data": {
      "text/plain": [
       "772"
      ]
     },
     "execution_count": 22,
     "metadata": {},
     "output_type": "execute_result"
    }
   ],
   "source": [
    "df.SeriesDescription.unique().size"
   ]
  },
  {
   "cell_type": "code",
   "execution_count": 23,
   "id": "f2f50830",
   "metadata": {},
   "outputs": [
    {
     "data": {
      "text/plain": [
       "array(['Head__5_0__J37s__1', 'Head__3_0__J30s', 'Head_5_0',\n",
       "       'brain_Head_3_0', 'noncontrast_Head_3_0', 'brain_ST_Head_3_0',\n",
       "       'Head_SPIRAL_Spiral', 'Head__3_0__J37s__1', 'AXIAL_HEAD',\n",
       "       'noncontrast_Head_3_000', 'Head_3_0__Axial____FC64',\n",
       "       'HEAD_3_75mm_Soft', 'Head_WO__3_0__J30f__SOFT'], dtype=object)"
      ]
     },
     "execution_count": 23,
     "metadata": {},
     "output_type": "execute_result"
    }
   ],
   "source": [
    "solution_df.SeriesDescription.unique()"
   ]
  },
  {
   "cell_type": "code",
   "execution_count": 24,
   "id": "2f7320ac",
   "metadata": {},
   "outputs": [],
   "source": [
    "# Filtering based on 'Head', 'HEAD', or 'Brain' in 'SeriesDescription'\n",
    "seriesdesc_df = thickness_df[\n",
    "    thickness_df.SeriesDescription.str.contains('head|brain', case=False, na=False)\n",
    "]"
   ]
  },
  {
   "cell_type": "code",
   "execution_count": 25,
   "id": "7f534467",
   "metadata": {},
   "outputs": [
    {
     "data": {
      "text/plain": [
       "307"
      ]
     },
     "execution_count": 25,
     "metadata": {},
     "output_type": "execute_result"
    }
   ],
   "source": [
    "seriesdesc_df.PatientID.unique().size"
   ]
  },
  {
   "cell_type": "code",
   "execution_count": 26,
   "id": "81714e24",
   "metadata": {},
   "outputs": [
    {
     "data": {
      "text/plain": [
       "62"
      ]
     },
     "execution_count": 26,
     "metadata": {},
     "output_type": "execute_result"
    }
   ],
   "source": [
    "seriesdesc_df.SeriesDescription.unique().size"
   ]
  },
  {
   "cell_type": "code",
   "execution_count": 27,
   "id": "b6972f75",
   "metadata": {},
   "outputs": [
    {
     "name": "stdout",
     "output_type": "stream",
     "text": [
      "<class 'pandas.core.frame.DataFrame'>\n",
      "Int64Index: 755 entries, 1 to 8407\n",
      "Data columns (total 12 columns):\n",
      " #   Column                   Non-Null Count  Dtype  \n",
      "---  ------                   --------------  -----  \n",
      " 0   PatientID                755 non-null    object \n",
      " 1   StudyInstanceUID         755 non-null    object \n",
      " 2   SeriesInstanceUID        755 non-null    object \n",
      " 3   StudyDescription         755 non-null    object \n",
      " 4   SeriesDescription        755 non-null    object \n",
      " 5   PixelSpacing             755 non-null    object \n",
      " 6   SliceThickness           755 non-null    float64\n",
      " 7   ConvolutionKernel        747 non-null    object \n",
      " 8   ImageOrientationPatient  755 non-null    object \n",
      " 9   Modality                 755 non-null    object \n",
      " 10  InstanceCreationDate     5 non-null      float64\n",
      " 11  InstanceCreationTime     5 non-null      float64\n",
      "dtypes: float64(3), object(9)\n",
      "memory usage: 76.7+ KB\n"
     ]
    }
   ],
   "source": [
    "seriesdesc_df.info()"
   ]
  },
  {
   "cell_type": "markdown",
   "id": "a16eff4b",
   "metadata": {},
   "source": [
    "## Study Description not containing 'Angio' or 'CTA HEAD'"
   ]
  },
  {
   "cell_type": "markdown",
   "id": "b12a1dfb",
   "metadata": {},
   "source": [
    "Not sure about:\n",
    "    \n",
    "CT BRAIN WO, CTA BRAIN & CEREBRAL PERFUSION (70496, 0042T) -> included in solution\n",
    "\n",
    "CT ANGIO HEAD & NECK W/WO (70496, 70498) -> not included in solution\n",
    "\n",
    "CT ANGIO HEAD W/WO CONTRAST (70496) ->not included in solution"
   ]
  },
  {
   "cell_type": "code",
   "execution_count": 28,
   "id": "728ca052",
   "metadata": {},
   "outputs": [
    {
     "data": {
      "text/plain": [
       "array(['CT BRAIN WO CONTRAST (70450)',\n",
       "       'CT BRAIN WO, CTA BRAIN & CEREBRAL PERFUSION (70496, 0042T)',\n",
       "       'MRI BRAIN W/WO CONTRAST (70553)',\n",
       "       'CT ANGIO HEAD & NECK W/WO (70496, 70498)',\n",
       "       'CTA BRAIN & CEREBRAL PERFUSION (70496, 0042T)',\n",
       "       'EXTERNAL CT-STORE & INTERPRET',\n",
       "       'CT ANGIO HEAD W/WO CONTRAST (70496)', 'EXTERNAL CT - STORE ONLY',\n",
       "       'MRI BRAIN WO CONTRAST (70551)', 'EXTERNAL CT - STORE ONLY - RAD',\n",
       "       'IR NEURO RADIOLOGY PROCEDURE',\n",
       "       'EXTERNAL CT BRAIN - STORE ONLY - RAD',\n",
       "       'EXTERNAL CTA HEAD - STORE ONLY - RAD',\n",
       "       'EXTERNAL CT BRAIN - STORE ONLY', 'EXTERNAL CTA HEAD - STORE ONLY',\n",
       "       'EXTERNAL CT BRAIN INTERPRET', 'EXTERNAL CTA HEAD INTERPRET'],\n",
       "      dtype=object)"
      ]
     },
     "execution_count": 28,
     "metadata": {},
     "output_type": "execute_result"
    }
   ],
   "source": [
    "df.StudyDescription.unique()"
   ]
  },
  {
   "cell_type": "code",
   "execution_count": 29,
   "id": "3a8083d8",
   "metadata": {},
   "outputs": [
    {
     "data": {
      "text/plain": [
       "array(['CT BRAIN WO, CTA BRAIN & CEREBRAL PERFUSION (70496, 0042T)',\n",
       "       'EXTERNAL CT - STORE ONLY', 'EXTERNAL CT - STORE ONLY - RAD',\n",
       "       'EXTERNAL CT BRAIN - STORE ONLY - RAD',\n",
       "       'EXTERNAL CT BRAIN - STORE ONLY', 'CT BRAIN WO CONTRAST (70450)',\n",
       "       'EXTERNAL CT BRAIN INTERPRET'], dtype=object)"
      ]
     },
     "execution_count": 29,
     "metadata": {},
     "output_type": "execute_result"
    }
   ],
   "source": [
    "solution_df.StudyDescription.unique()"
   ]
  },
  {
   "cell_type": "code",
   "execution_count": 30,
   "id": "1eb98f71",
   "metadata": {},
   "outputs": [],
   "source": [
    "# Filter StudyDescription to exclude CTA or Angio\n",
    "studydesc_df = seriesdesc_df[\n",
    "    (~seriesdesc_df.StudyDescription.str.contains('angio|CTA HEAD', case=False, na=False))\n",
    "]"
   ]
  },
  {
   "cell_type": "code",
   "execution_count": 31,
   "id": "88bcd1b8",
   "metadata": {},
   "outputs": [
    {
     "data": {
      "text/plain": [
       "array(['CT BRAIN WO CONTRAST (70450)',\n",
       "       'CT BRAIN WO, CTA BRAIN & CEREBRAL PERFUSION (70496, 0042T)',\n",
       "       'EXTERNAL CT-STORE & INTERPRET',\n",
       "       'CTA BRAIN & CEREBRAL PERFUSION (70496, 0042T)',\n",
       "       'EXTERNAL CT - STORE ONLY', 'EXTERNAL CT - STORE ONLY - RAD',\n",
       "       'EXTERNAL CT BRAIN - STORE ONLY - RAD',\n",
       "       'EXTERNAL CT BRAIN - STORE ONLY', 'EXTERNAL CT BRAIN INTERPRET'],\n",
       "      dtype=object)"
      ]
     },
     "execution_count": 31,
     "metadata": {},
     "output_type": "execute_result"
    }
   ],
   "source": [
    "studydesc_df.StudyDescription.unique()"
   ]
  },
  {
   "cell_type": "code",
   "execution_count": 32,
   "id": "e4bf85c0",
   "metadata": {},
   "outputs": [
    {
     "data": {
      "text/plain": [
       "305"
      ]
     },
     "execution_count": 32,
     "metadata": {},
     "output_type": "execute_result"
    }
   ],
   "source": [
    "studydesc_df.PatientID.unique().size"
   ]
  },
  {
   "cell_type": "code",
   "execution_count": 33,
   "id": "f498a728",
   "metadata": {},
   "outputs": [
    {
     "name": "stdout",
     "output_type": "stream",
     "text": [
      "<class 'pandas.core.frame.DataFrame'>\n",
      "Int64Index: 720 entries, 1 to 8407\n",
      "Data columns (total 12 columns):\n",
      " #   Column                   Non-Null Count  Dtype  \n",
      "---  ------                   --------------  -----  \n",
      " 0   PatientID                720 non-null    object \n",
      " 1   StudyInstanceUID         720 non-null    object \n",
      " 2   SeriesInstanceUID        720 non-null    object \n",
      " 3   StudyDescription         720 non-null    object \n",
      " 4   SeriesDescription        720 non-null    object \n",
      " 5   PixelSpacing             720 non-null    object \n",
      " 6   SliceThickness           720 non-null    float64\n",
      " 7   ConvolutionKernel        712 non-null    object \n",
      " 8   ImageOrientationPatient  720 non-null    object \n",
      " 9   Modality                 720 non-null    object \n",
      " 10  InstanceCreationDate     5 non-null      float64\n",
      " 11  InstanceCreationTime     5 non-null      float64\n",
      "dtypes: float64(3), object(9)\n",
      "memory usage: 73.1+ KB\n"
     ]
    }
   ],
   "source": [
    "studydesc_df.info()"
   ]
  },
  {
   "cell_type": "markdown",
   "id": "6e667a7a",
   "metadata": {},
   "source": [
    "## Pixel Spacing less than 0.55,0.55 mm"
   ]
  },
  {
   "cell_type": "markdown",
   "id": "2719ebc7",
   "metadata": {},
   "source": [
    "Study if it's needed to determine a threshold for this value"
   ]
  },
  {
   "cell_type": "code",
   "execution_count": 34,
   "id": "15d70082",
   "metadata": {},
   "outputs": [
    {
     "data": {
      "text/plain": [
       "863"
      ]
     },
     "execution_count": 34,
     "metadata": {},
     "output_type": "execute_result"
    }
   ],
   "source": [
    "df.PixelSpacing.unique().size"
   ]
  },
  {
   "cell_type": "code",
   "execution_count": 35,
   "id": "9e6aa5cb",
   "metadata": {},
   "outputs": [
    {
     "data": {
      "text/plain": [
       "array(['[0.46875, 0.46875]', '[0.47265625, 0.47265625]', '[0.417, 0.417]',\n",
       "       '[0.456, 0.456]', '[0.517, 0.517]', '[0.430, 0.430]',\n",
       "       '[0.455078125, 0.455078125]', '[0.39086294416244, 0.390625]',\n",
       "       '[0.390625, 0.390625]', '[0.527000, 0.527000]', '[0.429, 0.429]',\n",
       "       '[0.451171875, 0.451171875]', '[0.454, 0.454]',\n",
       "       '[0.488281, 0.488281]', '[0.459, 0.459]', '[0.4296875, 0.4296875]',\n",
       "       '[0.38850174216028, 0.388671875]'], dtype=object)"
      ]
     },
     "execution_count": 35,
     "metadata": {},
     "output_type": "execute_result"
    }
   ],
   "source": [
    "solution_df.PixelSpacing.unique()"
   ]
  },
  {
   "cell_type": "code",
   "execution_count": 36,
   "id": "d167c1fe",
   "metadata": {},
   "outputs": [
    {
     "data": {
      "text/plain": [
       "array(['0.46875\\\\0.46875', '0.36156351791531\\\\0.361328125',\n",
       "       '0.25390625\\\\0.25390625', '0.3828125\\\\0.3828125',\n",
       "       '0.37109375\\\\0.37109375', '0.48046875\\\\0.48046875',\n",
       "       '0.412109375\\\\0.412109375', '0.392578125\\\\0.392578125',\n",
       "       '0.392578125\\\\0.39279869067103', '0.396484375\\\\0.396484375',\n",
       "       '0.37890625\\\\0.37890625', '0.427734375\\\\0.427734375',\n",
       "       '0.41030534351145\\\\0.41015625', '0.33177570093458\\\\0.33203125',\n",
       "       '0.515625\\\\0.515625', '0.390625\\\\0.390625', '0.488281\\\\0.488281',\n",
       "       '0.556640625\\\\0.556640625', '0.5703125\\\\0.5703125',\n",
       "       '0.4296875\\\\0.4296875', '0.4921875\\\\0.4921875',\n",
       "       '1.033203125\\\\1.033203125', '1.029296875\\\\1.029296875',\n",
       "       '0.51953125\\\\0.51953125', '1.02734375\\\\1.02734375',\n",
       "       '0.9765625\\\\0.9765625', '1.03125\\\\1.03125',\n",
       "       '1.037109375\\\\1.037109375', '0.978515625\\\\0.978515625',\n",
       "       '1.03515625\\\\1.03515625', '0.98046875\\\\0.98046875',\n",
       "       '0.541015625\\\\0.541015625', '0.533203125\\\\0.533203125',\n",
       "       '0.468\\\\0.468', '1.046875\\\\1.046875', '0.98828125\\\\0.98828125',\n",
       "       '1.064453125\\\\1.064453125', '0.430\\\\0.430',\n",
       "       '0.47265625\\\\0.47265625', '0.456\\\\0.456',\n",
       "       '0.455078125\\\\0.455078125', '0.527000\\\\0.527000',\n",
       "       '0.435546875\\\\0.435546875'], dtype=object)"
      ]
     },
     "execution_count": 36,
     "metadata": {},
     "output_type": "execute_result"
    }
   ],
   "source": [
    "studydesc_df.PixelSpacing.unique()"
   ]
  },
  {
   "cell_type": "code",
   "execution_count": 37,
   "id": "35122664",
   "metadata": {},
   "outputs": [],
   "source": [
    "def filter_pixel_spacing(value):\n",
    "    # Split the PixelSpacing string\n",
    "    values = value.split('\\\\')\n",
    "    \n",
    "    # Convert the split values into floats\n",
    "    val1 = float(values[0])\n",
    "    val2 = float(values[1])\n",
    "    \n",
    "    # Check if both values are less than or equal to 0.53\n",
    "    return val1 <= 0.55 and val2 <= 0.55"
   ]
  },
  {
   "cell_type": "code",
   "execution_count": 38,
   "id": "1413f73c",
   "metadata": {},
   "outputs": [],
   "source": [
    "pixelsp_df = studydesc_df[studydesc_df.PixelSpacing.apply(filter_pixel_spacing)]"
   ]
  },
  {
   "cell_type": "code",
   "execution_count": 39,
   "id": "df7ad5dd",
   "metadata": {},
   "outputs": [
    {
     "data": {
      "text/plain": [
       "305"
      ]
     },
     "execution_count": 39,
     "metadata": {},
     "output_type": "execute_result"
    }
   ],
   "source": [
    "pixelsp_df.PatientID.unique().size"
   ]
  },
  {
   "cell_type": "code",
   "execution_count": 40,
   "id": "53967cb1",
   "metadata": {},
   "outputs": [
    {
     "name": "stdout",
     "output_type": "stream",
     "text": [
      "<class 'pandas.core.frame.DataFrame'>\n",
      "Int64Index: 699 entries, 1 to 8407\n",
      "Data columns (total 12 columns):\n",
      " #   Column                   Non-Null Count  Dtype  \n",
      "---  ------                   --------------  -----  \n",
      " 0   PatientID                699 non-null    object \n",
      " 1   StudyInstanceUID         699 non-null    object \n",
      " 2   SeriesInstanceUID        699 non-null    object \n",
      " 3   StudyDescription         699 non-null    object \n",
      " 4   SeriesDescription        699 non-null    object \n",
      " 5   PixelSpacing             699 non-null    object \n",
      " 6   SliceThickness           699 non-null    float64\n",
      " 7   ConvolutionKernel        691 non-null    object \n",
      " 8   ImageOrientationPatient  699 non-null    object \n",
      " 9   Modality                 699 non-null    object \n",
      " 10  InstanceCreationDate     5 non-null      float64\n",
      " 11  InstanceCreationTime     5 non-null      float64\n",
      "dtypes: float64(3), object(9)\n",
      "memory usage: 71.0+ KB\n"
     ]
    }
   ],
   "source": [
    "pixelsp_df.info()"
   ]
  },
  {
   "cell_type": "markdown",
   "id": "a9ed8529",
   "metadata": {},
   "source": [
    "## First in time NCTT Created"
   ]
  },
  {
   "cell_type": "markdown",
   "id": "ba7cc308",
   "metadata": {},
   "source": [
    "Decided not to be included in the filter criteria as it affected few cases and both images could be useful for the algorithm"
   ]
  },
  {
   "cell_type": "code",
   "execution_count": 41,
   "id": "98affd3e",
   "metadata": {},
   "outputs": [
    {
     "data": {
      "text/plain": [
       "Index(['InstanceCreationDate', 'InstanceCreationTime'], dtype='object')"
      ]
     },
     "execution_count": 41,
     "metadata": {},
     "output_type": "execute_result"
    }
   ],
   "source": [
    "df.columns[df.columns.str.contains('creation', case=False)]\n"
   ]
  },
  {
   "cell_type": "code",
   "execution_count": 42,
   "id": "cb3993bd",
   "metadata": {},
   "outputs": [
    {
     "data": {
      "text/html": [
       "<div>\n",
       "<style scoped>\n",
       "    .dataframe tbody tr th:only-of-type {\n",
       "        vertical-align: middle;\n",
       "    }\n",
       "\n",
       "    .dataframe tbody tr th {\n",
       "        vertical-align: top;\n",
       "    }\n",
       "\n",
       "    .dataframe thead th {\n",
       "        text-align: right;\n",
       "    }\n",
       "</style>\n",
       "<table border=\"1\" class=\"dataframe\">\n",
       "  <thead>\n",
       "    <tr style=\"text-align: right;\">\n",
       "      <th></th>\n",
       "      <th>PatientID</th>\n",
       "      <th>StudyInstanceUID</th>\n",
       "      <th>SeriesInstanceUID</th>\n",
       "      <th>StudyDescription</th>\n",
       "      <th>SeriesDescription</th>\n",
       "      <th>PixelSpacing</th>\n",
       "      <th>SliceThickness</th>\n",
       "      <th>ConvolutionKernel</th>\n",
       "      <th>ImageOrientationPatient</th>\n",
       "      <th>Modality</th>\n",
       "      <th>InstanceCreationDate</th>\n",
       "      <th>InstanceCreationTime</th>\n",
       "    </tr>\n",
       "  </thead>\n",
       "  <tbody>\n",
       "    <tr>\n",
       "      <th>1876</th>\n",
       "      <td>B27</td>\n",
       "      <td>1.3.12.2.1107.5.1.4.25049902636933607762377742...</td>\n",
       "      <td>1.3.12.2.1107.5.1.4.76676095302909735651073058...</td>\n",
       "      <td>EXTERNAL CT-STORE &amp; INTERPRET</td>\n",
       "      <td>HELICAL_HEAD</td>\n",
       "      <td>0.488281\\0.488281</td>\n",
       "      <td>2.50</td>\n",
       "      <td>STANDARD</td>\n",
       "      <td>1.000000\\0.000000\\0.000000\\0.000000\\1.000000\\0...</td>\n",
       "      <td>CT</td>\n",
       "      <td>20210826.0</td>\n",
       "      <td>45449.00</td>\n",
       "    </tr>\n",
       "    <tr>\n",
       "      <th>1877</th>\n",
       "      <td>B27</td>\n",
       "      <td>1.3.12.2.1107.5.1.4.25049902636933607762377742...</td>\n",
       "      <td>1.3.12.2.1107.5.1.4.22045256542742356661705839...</td>\n",
       "      <td>EXTERNAL CT-STORE &amp; INTERPRET</td>\n",
       "      <td>Recon_2__HELICAL_HEAD</td>\n",
       "      <td>0.488281\\0.488281</td>\n",
       "      <td>2.50</td>\n",
       "      <td>BONE</td>\n",
       "      <td>1.000000\\0.000000\\0.000000\\0.000000\\1.000000\\0...</td>\n",
       "      <td>CT</td>\n",
       "      <td>20210826.0</td>\n",
       "      <td>45512.00</td>\n",
       "    </tr>\n",
       "    <tr>\n",
       "      <th>6067</th>\n",
       "      <td>E135</td>\n",
       "      <td>1.3.12.2.1107.5.1.4.89209744840729005094034996...</td>\n",
       "      <td>1.3.12.2.1107.5.1.4.25536946662983948546072232...</td>\n",
       "      <td>EXTERNAL CT - STORE ONLY</td>\n",
       "      <td>Brain___PACS</td>\n",
       "      <td>0.468\\0.468</td>\n",
       "      <td>5.00</td>\n",
       "      <td>54</td>\n",
       "      <td>1.0000\\0.0000\\0.0000\\0.0000\\1.0000\\0.0000</td>\n",
       "      <td>CT</td>\n",
       "      <td>20211115.0</td>\n",
       "      <td>80258.06</td>\n",
       "    </tr>\n",
       "    <tr>\n",
       "      <th>8211</th>\n",
       "      <td>G63</td>\n",
       "      <td>1.3.12.2.1107.5.1.4.55310721004101065623387228...</td>\n",
       "      <td>1.3.12.2.1107.5.1.4.94258543244212945685053721...</td>\n",
       "      <td>EXTERNAL CT BRAIN - STORE ONLY</td>\n",
       "      <td>HEAD_3_75mm_Soft</td>\n",
       "      <td>0.488281\\0.488281</td>\n",
       "      <td>3.75</td>\n",
       "      <td>STANDARD</td>\n",
       "      <td>1.000000\\0.000000\\0.000000\\0.000000\\1.000000\\0...</td>\n",
       "      <td>CT</td>\n",
       "      <td>20211209.0</td>\n",
       "      <td>195705.00</td>\n",
       "    </tr>\n",
       "    <tr>\n",
       "      <th>8213</th>\n",
       "      <td>G63</td>\n",
       "      <td>1.3.12.2.1107.5.1.4.55310721004101065623387228...</td>\n",
       "      <td>1.3.12.2.1107.5.1.4.56131535116631380105618367...</td>\n",
       "      <td>EXTERNAL CT BRAIN - STORE ONLY</td>\n",
       "      <td>Head_2_5_Bone</td>\n",
       "      <td>0.488281\\0.488281</td>\n",
       "      <td>2.50</td>\n",
       "      <td>STANDARD</td>\n",
       "      <td>1.000000\\0.000000\\0.000000\\0.000000\\1.000000\\0...</td>\n",
       "      <td>CT</td>\n",
       "      <td>20211209.0</td>\n",
       "      <td>195755.00</td>\n",
       "    </tr>\n",
       "  </tbody>\n",
       "</table>\n",
       "</div>"
      ],
      "text/plain": [
       "     PatientID                                   StudyInstanceUID  \\\n",
       "1876       B27  1.3.12.2.1107.5.1.4.25049902636933607762377742...   \n",
       "1877       B27  1.3.12.2.1107.5.1.4.25049902636933607762377742...   \n",
       "6067      E135  1.3.12.2.1107.5.1.4.89209744840729005094034996...   \n",
       "8211       G63  1.3.12.2.1107.5.1.4.55310721004101065623387228...   \n",
       "8213       G63  1.3.12.2.1107.5.1.4.55310721004101065623387228...   \n",
       "\n",
       "                                      SeriesInstanceUID  \\\n",
       "1876  1.3.12.2.1107.5.1.4.76676095302909735651073058...   \n",
       "1877  1.3.12.2.1107.5.1.4.22045256542742356661705839...   \n",
       "6067  1.3.12.2.1107.5.1.4.25536946662983948546072232...   \n",
       "8211  1.3.12.2.1107.5.1.4.94258543244212945685053721...   \n",
       "8213  1.3.12.2.1107.5.1.4.56131535116631380105618367...   \n",
       "\n",
       "                    StudyDescription      SeriesDescription  \\\n",
       "1876   EXTERNAL CT-STORE & INTERPRET           HELICAL_HEAD   \n",
       "1877   EXTERNAL CT-STORE & INTERPRET  Recon_2__HELICAL_HEAD   \n",
       "6067        EXTERNAL CT - STORE ONLY           Brain___PACS   \n",
       "8211  EXTERNAL CT BRAIN - STORE ONLY       HEAD_3_75mm_Soft   \n",
       "8213  EXTERNAL CT BRAIN - STORE ONLY          Head_2_5_Bone   \n",
       "\n",
       "           PixelSpacing  SliceThickness ConvolutionKernel  \\\n",
       "1876  0.488281\\0.488281            2.50          STANDARD   \n",
       "1877  0.488281\\0.488281            2.50              BONE   \n",
       "6067        0.468\\0.468            5.00                54   \n",
       "8211  0.488281\\0.488281            3.75          STANDARD   \n",
       "8213  0.488281\\0.488281            2.50          STANDARD   \n",
       "\n",
       "                                ImageOrientationPatient Modality  \\\n",
       "1876  1.000000\\0.000000\\0.000000\\0.000000\\1.000000\\0...       CT   \n",
       "1877  1.000000\\0.000000\\0.000000\\0.000000\\1.000000\\0...       CT   \n",
       "6067          1.0000\\0.0000\\0.0000\\0.0000\\1.0000\\0.0000       CT   \n",
       "8211  1.000000\\0.000000\\0.000000\\0.000000\\1.000000\\0...       CT   \n",
       "8213  1.000000\\0.000000\\0.000000\\0.000000\\1.000000\\0...       CT   \n",
       "\n",
       "      InstanceCreationDate  InstanceCreationTime  \n",
       "1876            20210826.0              45449.00  \n",
       "1877            20210826.0              45512.00  \n",
       "6067            20211115.0              80258.06  \n",
       "8211            20211209.0             195705.00  \n",
       "8213            20211209.0             195755.00  "
      ]
     },
     "execution_count": 42,
     "metadata": {},
     "output_type": "execute_result"
    }
   ],
   "source": [
    "pixelsp_df[pixelsp_df.InstanceCreationDate.notnull()]"
   ]
  },
  {
   "cell_type": "markdown",
   "id": "1c9b6462",
   "metadata": {},
   "source": [
    "## Convolution Kernel"
   ]
  },
  {
   "cell_type": "markdown",
   "id": "8634f116",
   "metadata": {},
   "source": [
    "Decided not to use it for this prior study"
   ]
  },
  {
   "cell_type": "code",
   "execution_count": 43,
   "id": "19654496",
   "metadata": {},
   "outputs": [
    {
     "data": {
      "text/plain": [
       "array(['T20f', 'J37s\\\\1', 'J70h\\\\1', 'Tr20f', 'Hc40s\\\\2', 'Br64s\\\\2', nan,\n",
       "       'T80f', 'H20f', 'Hr36d', 'H41s', 'H70h', 'Hr38s\\\\2', 'Br64s\\\\3',\n",
       "       'J37f\\\\1', 'Q40f\\\\1', 'Hr68h\\\\2', 'J30f\\\\2', 'T20s', 'H37s',\n",
       "       'H40s', 'STANDARD', 'BONE', 'H41f', 'UC', 'H31f', 'H60f',\n",
       "       'I30f\\\\3', 'I40f\\\\3', 'B30f', 'H31s', 'FC03', 'FL04', 'FL03',\n",
       "       'FC43', 'J37s\\\\3', 'J70h\\\\3', 'Hc40s', 'I40s\\\\3', 'B60s', 'B70s',\n",
       "       'Hc40s\\\\3', 'Bv36d\\\\3', 'Bv36d', 'LUNG', 'J37f\\\\3', 'H40f', 'H10s',\n",
       "       'I80s\\\\1', 'J40s\\\\2', 'I30f\\\\2', 'J30f\\\\3', 'H60s', '01', '54',\n",
       "       '42', '12', 'SOFT', 'FC21', 'FC30', 'J30s\\\\1', 'FC26', 'I40f\\\\2',\n",
       "       'B20f', 'FC68', 'FC35', 'BONEPLUS', 'FC41', 'H50s', 'FC64',\n",
       "       'Qr36d\\\\3', 'Qr40s\\\\2'], dtype=object)"
      ]
     },
     "execution_count": 43,
     "metadata": {},
     "output_type": "execute_result"
    }
   ],
   "source": [
    "df.ConvolutionKernel.unique() "
   ]
  },
  {
   "cell_type": "code",
   "execution_count": 44,
   "id": "d9104f2c",
   "metadata": {},
   "outputs": [
    {
     "data": {
      "text/plain": [
       "array([\"['J37s', '1']\", \"['J30s', '1']\", 'FC26', 'FC68', 'FC21', 'H31f',\n",
       "       'FC64', 'STANDARD', \"['J30f', '3']\"], dtype=object)"
      ]
     },
     "execution_count": 44,
     "metadata": {},
     "output_type": "execute_result"
    }
   ],
   "source": [
    "solution_df.ConvolutionKernel.unique()"
   ]
  },
  {
   "cell_type": "code",
   "execution_count": 45,
   "id": "089b8a46",
   "metadata": {},
   "outputs": [
    {
     "data": {
      "text/plain": [
       "array(['J37s\\\\1', 'J70h\\\\1', 'Hc40s\\\\2', 'Br64s\\\\2', 'H41s', 'H70h',\n",
       "       'Hr38s\\\\2', nan, 'J37f\\\\1', 'Q40f\\\\1', 'Hr68h\\\\2', 'H37s', 'H40s',\n",
       "       'STANDARD', 'BONE', 'H41f', 'H31f', 'H31s', 'Hc40s\\\\3', 'J40s\\\\2',\n",
       "       'J70h\\\\3', 'J30f\\\\3', 'H60f', '54', 'FC21', 'J30s\\\\1', 'FC68',\n",
       "       'H60s', 'FC30'], dtype=object)"
      ]
     },
     "execution_count": 45,
     "metadata": {},
     "output_type": "execute_result"
    }
   ],
   "source": [
    "pixelsp_df.ConvolutionKernel.unique()"
   ]
  },
  {
   "cell_type": "markdown",
   "id": "62de34a5",
   "metadata": {},
   "source": [
    "## Further analysis, SeriesInstanceUID that are duplicated?"
   ]
  },
  {
   "cell_type": "markdown",
   "id": "20204ce0",
   "metadata": {},
   "source": [
    "This was determined not to be considered "
   ]
  },
  {
   "cell_type": "code",
   "execution_count": 46,
   "id": "2001a615",
   "metadata": {},
   "outputs": [],
   "source": [
    "filtered_df = df[~df.duplicated(subset=['SeriesInstanceUID'], keep='first')]"
   ]
  },
  {
   "cell_type": "code",
   "execution_count": 47,
   "id": "3ec7dc5d",
   "metadata": {},
   "outputs": [
    {
     "name": "stdout",
     "output_type": "stream",
     "text": [
      "<class 'pandas.core.frame.DataFrame'>\n",
      "Int64Index: 8299 entries, 0 to 8453\n",
      "Data columns (total 12 columns):\n",
      " #   Column                   Non-Null Count  Dtype  \n",
      "---  ------                   --------------  -----  \n",
      " 0   PatientID                8299 non-null   object \n",
      " 1   StudyInstanceUID         8299 non-null   object \n",
      " 2   SeriesInstanceUID        8299 non-null   object \n",
      " 3   StudyDescription         8299 non-null   object \n",
      " 4   SeriesDescription        8298 non-null   object \n",
      " 5   PixelSpacing             8213 non-null   object \n",
      " 6   SliceThickness           7267 non-null   float64\n",
      " 7   ConvolutionKernel        4943 non-null   object \n",
      " 8   ImageOrientationPatient  7565 non-null   object \n",
      " 9   Modality                 8299 non-null   object \n",
      " 10  InstanceCreationDate     2531 non-null   float64\n",
      " 11  InstanceCreationTime     2531 non-null   float64\n",
      "dtypes: float64(3), object(9)\n",
      "memory usage: 842.9+ KB\n"
     ]
    }
   ],
   "source": [
    "filtered_df.info()"
   ]
  },
  {
   "cell_type": "code",
   "execution_count": 48,
   "id": "7bb75dac",
   "metadata": {},
   "outputs": [
    {
     "data": {
      "text/plain": [
       "323"
      ]
     },
     "execution_count": 48,
     "metadata": {},
     "output_type": "execute_result"
    }
   ],
   "source": [
    "filtered_df.PatientID.unique().size"
   ]
  },
  {
   "cell_type": "code",
   "execution_count": 49,
   "id": "8b2950cf",
   "metadata": {},
   "outputs": [
    {
     "data": {
      "text/plain": [
       "502"
      ]
     },
     "execution_count": 49,
     "metadata": {},
     "output_type": "execute_result"
    }
   ],
   "source": [
    "filtered_df.StudyInstanceUID.unique().size"
   ]
  },
  {
   "cell_type": "code",
   "execution_count": 50,
   "id": "7363650d",
   "metadata": {},
   "outputs": [],
   "source": [
    "# Get duplicate SeriesInstanceUIDs\n",
    "duplicate_series = filtered_df[filtered_df.SeriesInstanceUID.duplicated(keep=False)]\n",
    "\n",
    "# Extract the unique duplicate SeriesInstanceUID values\n",
    "unique_duplicate_series = duplicate_series.SeriesInstanceUID.unique()"
   ]
  },
  {
   "cell_type": "markdown",
   "id": "d8f4982d",
   "metadata": {},
   "source": [
    "## Compilation of Previous code - End of First Task"
   ]
  },
  {
   "cell_type": "code",
   "execution_count": 51,
   "id": "5ad0b5e7",
   "metadata": {},
   "outputs": [
    {
     "name": "stdout",
     "output_type": "stream",
     "text": [
      "<class 'pandas.core.frame.DataFrame'>\n",
      "Int64Index: 699 entries, 1 to 8407\n",
      "Data columns (total 10 columns):\n",
      " #   Column                   Non-Null Count  Dtype  \n",
      "---  ------                   --------------  -----  \n",
      " 0   PatientID                699 non-null    object \n",
      " 1   StudyInstanceUID         699 non-null    object \n",
      " 2   SeriesInstanceUID        699 non-null    object \n",
      " 3   StudyDescription         699 non-null    object \n",
      " 4   SeriesDescription        699 non-null    object \n",
      " 5   PixelSpacing             699 non-null    object \n",
      " 6   SliceThickness           699 non-null    float64\n",
      " 7   ConvolutionKernel        691 non-null    object \n",
      " 8   ImageOrientationPatient  699 non-null    object \n",
      " 9   Modality                 699 non-null    object \n",
      "dtypes: float64(1), object(9)\n",
      "memory usage: 60.1+ KB\n"
     ]
    }
   ],
   "source": [
    "import pandas as pd\n",
    "\n",
    "# Load the dataset with optimized memory usage\n",
    "df = pd.read_csv('data/part1_inventory_test.csv', low_memory=False)\n",
    "\n",
    "# Define the target columns to be used in the analysis\n",
    "target_columns = ['PatientID',\n",
    "                  'StudyInstanceUID',\n",
    "                  'SeriesInstanceUID',\n",
    "                  'StudyDescription',\n",
    "                  'SeriesDescription',\n",
    "                  'PixelSpacing',\n",
    "                  'SliceThickness',\n",
    "                  'ConvolutionKernel',\n",
    "                  'ImageOrientationPatient',\n",
    "                  'Modality']\n",
    "\n",
    "# Filter DataFrame to include only the target columns and remove columns with more than 30% missing values\n",
    "threshold = int(df.shape[0] * 0.3)\n",
    "df = df[target_columns].dropna(axis=1, thresh=threshold)\n",
    "\n",
    "# Filter for rows where the modality is 'CT' (Computed Tomography)\n",
    "df = df[df.Modality == 'CT']\n",
    "\n",
    "# Function to check if the ImageOrientationPatient values are within a tolerance of the target\n",
    "def tolerance(value, target, tolerance=0.15):\n",
    "    \"\"\"Check if the orientation components of `value` are within the specified tolerance of `target`.\"\"\"\n",
    "    if pd.isna(value):  # Handle missing values\n",
    "        return False\n",
    "    \n",
    "    # Convert value and target into lists of float components\n",
    "    components = list(map(float, str(value).split('\\\\')))\n",
    "    target_components = list(map(float, target.split('\\\\')))\n",
    "    \n",
    "    # Check if all components are within the tolerance range\n",
    "    return all(abs(comp - tgt) <= tolerance for comp, tgt in zip(components, target_components))\n",
    "\n",
    "# Define the target axial orientation to compare against\n",
    "target_orientation = '1\\\\0\\\\0\\\\0\\\\1\\\\0'\n",
    "\n",
    "# Filter based on closeness to the target axial orientation\n",
    "df = df[df.ImageOrientationPatient.apply(lambda x: tolerance(x, target_orientation))]\n",
    "\n",
    "# Filter rows where Slice Thickness is between 2.5 and 5 mm\n",
    "df = df[(df.SliceThickness >= 2.5) & (df.SliceThickness <= 5)]\n",
    "\n",
    "# Filter SeriesDescription to include only rows with 'head' or 'brain' (case insensitive)\n",
    "df = df[df.SeriesDescription.str.contains('head|brain', case=False, na=False)]\n",
    "\n",
    "# Filter StudyDescription to exclude rows with 'CTA HEAD' or 'Angio' (case insensitive)\n",
    "df = df[~df.StudyDescription.str.contains('angio|CTA HEAD', case=False, na=False)]\n",
    "\n",
    "# Function to filter PixelSpacing values where both components are less than or equal to 0.53 mm\n",
    "def filter_pixel_spacing(value):\n",
    "    \"\"\"Return True if both components of PixelSpacing are <= 0.53 mm, otherwise False.\"\"\"\n",
    "    try:\n",
    "        # Split the PixelSpacing into two values and convert them to floats\n",
    "        val1, val2 = map(float, value.split('\\\\'))\n",
    "    except (ValueError, AttributeError):\n",
    "        return False  # Handle any potential issues with missing or malformed data\n",
    "    \n",
    "    # Check if both values are less than or equal to the threshold (0.53 mm)\n",
    "    return val1 <= 0.55 and val2 <= 0.55\n",
    "\n",
    "# Apply PixelSpacing filter to keep rows with PixelSpacing <= 0.53 mm for both dimensions\n",
    "final_df = df[df.PixelSpacing.apply(filter_pixel_spacing)]\n",
    "\n",
    "# Display the resulting filtered DataFrame\n",
    "final_df.info()\n"
   ]
  },
  {
   "cell_type": "code",
   "execution_count": 72,
   "id": "8209cfdc",
   "metadata": {},
   "outputs": [
    {
     "data": {
      "text/plain": [
       "305"
      ]
     },
     "execution_count": 72,
     "metadata": {},
     "output_type": "execute_result"
    }
   ],
   "source": [
    "final_df.PatientID.unique().size"
   ]
  },
  {
   "cell_type": "markdown",
   "id": "dd5405b6",
   "metadata": {},
   "source": [
    "## ETL Integration"
   ]
  },
  {
   "cell_type": "code",
   "execution_count": 52,
   "id": "085514f5",
   "metadata": {},
   "outputs": [
    {
     "name": "stderr",
     "output_type": "stream",
     "text": [
      "2024-10-09 19:50:04,696 - INFO - Extracting data from CSV file.\n",
      "2024-10-09 19:50:04,836 - INFO - Data extraction complete. Rows: 8454, Columns: 206\n",
      "2024-10-09 19:50:04,837 - INFO - Starting data transformation.\n",
      "2024-10-09 19:50:04,874 - INFO - Data transformation complete. Rows after transformation: 699\n",
      "2024-10-09 19:50:04,875 - INFO - Loading data to data/transformed_inventory_data.csv.\n",
      "2024-10-09 19:50:04,882 - INFO - Data loading complete.\n"
     ]
    }
   ],
   "source": [
    "import pandas as pd\n",
    "import logging\n",
    "\n",
    "# Set up logging for the ETL process\n",
    "logging.basicConfig(level=logging.INFO, format='%(asctime)s - %(levelname)s - %(message)s')\n",
    "\n",
    "def extract_data(file_path):\n",
    "    \"\"\"Extract data from CSV file.\"\"\"\n",
    "    try:\n",
    "        logging.info(\"Extracting data from CSV file.\")\n",
    "        df = pd.read_csv(file_path, low_memory=False)\n",
    "        logging.info(f\"Data extraction complete. Rows: {df.shape[0]}, Columns: {df.shape[1]}\")\n",
    "        return df\n",
    "    except Exception as e:\n",
    "        logging.error(f\"Error during data extraction: {e}\")\n",
    "        raise\n",
    "\n",
    "def transform_data(df):\n",
    "    \"\"\"Transform the data by filtering and processing.\"\"\"\n",
    "    logging.info(\"Starting data transformation.\")\n",
    "\n",
    "    # Define the target columns to be used in the analysis\n",
    "    target_columns = ['PatientID',\n",
    "                      'StudyInstanceUID',\n",
    "                      'SeriesInstanceUID',\n",
    "                      'StudyDescription',\n",
    "                      'SeriesDescription',\n",
    "                      'PixelSpacing',\n",
    "                      'SliceThickness',\n",
    "                      'ConvolutionKernel',\n",
    "                      'ImageOrientationPatient',\n",
    "                      'Modality']\n",
    "\n",
    "    # Filter DataFrame to include only the target columns and remove columns with more than 30% missing values\n",
    "    threshold = int(df.shape[0] * 0.3)\n",
    "    df = df[target_columns].dropna(axis=1, thresh=threshold)\n",
    "\n",
    "    # Filter for rows where the modality is 'CT'\n",
    "    df = df[df.Modality == 'CT']\n",
    "\n",
    "    # Function to check if the ImageOrientationPatient values are within a tolerance of the target\n",
    "    def tolerance(value, target, tolerance=0.15):\n",
    "        if pd.isna(value):\n",
    "            return False\n",
    "        components = list(map(float, str(value).split('\\\\')))\n",
    "        target_components = list(map(float, target.split('\\\\')))\n",
    "        return all(abs(comp - tgt) <= tolerance for comp, tgt in zip(components, target_components))\n",
    "\n",
    "    # Target orientation to compare against\n",
    "    target_orientation = '1\\\\0\\\\0\\\\0\\\\1\\\\0'\n",
    "    df = df[df.ImageOrientationPatient.apply(lambda x: tolerance(x, target_orientation))]\n",
    "\n",
    "    # Filter rows where Slice Thickness is between 2.5 and 5 mm\n",
    "    df = df[(df.SliceThickness >= 2.5) & (df.SliceThickness <= 5)]\n",
    "\n",
    "    # Filter SeriesDescription to include only rows with 'head' or 'brain'\n",
    "    df = df[df.SeriesDescription.str.contains('head|brain', case=False, na=False)]\n",
    "\n",
    "    # Filter StudyDescription to exclude rows with 'CTA HEAD' or 'Angio'\n",
    "    df = df[~df.StudyDescription.str.contains('angio|CTA HEAD', case=False, na=False)]\n",
    "\n",
    "    # Function to filter PixelSpacing values\n",
    "    def filter_pixel_spacing(value):\n",
    "        try:\n",
    "            val1, val2 = map(float, value.split('\\\\'))\n",
    "        except (ValueError, AttributeError):\n",
    "            return False\n",
    "        return val1 <= 0.55 and val2 <= 0.55\n",
    "\n",
    "    # Apply PixelSpacing filter\n",
    "    df = df[df.PixelSpacing.apply(filter_pixel_spacing)]\n",
    "\n",
    "    logging.info(f\"Data transformation complete. Rows after transformation: {df.shape[0]}\")\n",
    "    return df\n",
    "\n",
    "def load_data(df, output_file):\n",
    "    \"\"\"Load transformed data to a CSV file.\"\"\"\n",
    "    try:\n",
    "        logging.info(f\"Loading data to {output_file}.\")\n",
    "        df.to_csv(output_file, index=False)\n",
    "        logging.info(\"Data loading complete.\")\n",
    "    except Exception as e:\n",
    "        logging.error(f\"Error during data loading: {e}\")\n",
    "        raise\n",
    "\n",
    "def main():\n",
    "    \"\"\"Main ETL function to orchestrate the process.\"\"\"\n",
    "    input_file = 'data/part1_inventory_test.csv'\n",
    "    output_file = 'data/transformed_inventory_data.csv'\n",
    "    \n",
    "    # Extract, Transform, Load process\n",
    "    try:\n",
    "        df = extract_data(input_file)\n",
    "        transformed_df = transform_data(df)\n",
    "        load_data(transformed_df, output_file)\n",
    "    except Exception as e:\n",
    "        logging.error(f\"ETL process failed: {e}\")\n",
    "\n",
    "if __name__ == \"__main__\":\n",
    "    main()\n"
   ]
  },
  {
   "cell_type": "markdown",
   "id": "325a37e8",
   "metadata": {},
   "source": [
    "## ETL workflow conclusion"
   ]
  },
  {
   "cell_type": "markdown",
   "id": "5e86bdc0",
   "metadata": {
    "heading_collapsed": true
   },
   "source": [
    "### Workflow for Cleaning and Inventory\n",
    "\n",
    "1. **Filter by Modality**:  \n",
    "   Keep only rows where `df.Modality == 'CT'`.\n",
    "\n",
    "2. **Image Orientation Patient**:  \n",
    "   Apply tolerance to `ImageOrientationPatient` values of `'1\\\\0\\\\0\\\\0\\\\1\\\\0'` with a tolerance of **0.15 mm**.\n",
    "\n",
    "3. **Slice Thickness**:  \n",
    "   Filter for rows where `2.5 <= SliceThickness <= 5 mm`.\n",
    "\n",
    "4. **Series Description**:  \n",
    "   Keep rows where `SeriesDescription` contains 'head' or 'brain' (case insensitive).\n",
    "\n",
    "5. **Study Description**:  \n",
    "   Include rows where `StudyDescription` contains 'angio' or 'CTA HEAD' (case insensitive).\n",
    "\n",
    "6. **Pixel Spacing**:  \n",
    "   Filter for rows where `PixelSpacing <= 0.55`.\n"
   ]
  },
  {
   "cell_type": "markdown",
   "id": "ecf84f3d",
   "metadata": {},
   "source": [
    "## Discussion and further improvements:"
   ]
  },
  {
   "cell_type": "markdown",
   "id": "c2d62476",
   "metadata": {
    "heading_collapsed": true
   },
   "source": [
    "### Columns/Variables:\n",
    "\n",
    "- **Baseline identification columns**:  \n",
    "  `['PatientID', 'StudyInstanceUID', 'SeriesInstanceUID']`\n",
    "\n",
    "- **Filter Used Columns**:  \n",
    "  `['Modality', 'StudyDescription', 'SeriesDescription', 'PixelSpacing', 'SliceThickness', 'ImageOrientationPatient']`\n",
    "\n",
    "- **Columns to Study**:  \n",
    "  `['ConvolutionKernel', 'SeriesInstanceUID', 'InstanceCreationDate', 'InstanceCreationTime']`\n"
   ]
  },
  {
   "cell_type": "markdown",
   "id": "6a12318e",
   "metadata": {
    "heading_collapsed": true
   },
   "source": [
    "### Comments on Patients Not Collected (but Present in the Provided Solution)\n",
    "\n",
    "- **K80**:  \n",
    "  *ImageOrientationPatient* tolerance was originally 0.1, and has now been increased to 0.15 to capture 5 additional patients.\n",
    "\n",
    "- **K67**:  \n",
    "  Included after *ImageOrientationPatient* tolerance modification.\n",
    "\n",
    "- **G136**:  \n",
    "  Excluded after tolerance modification due to some *ImageOrientationPatient* values exceeding 0.2 mm.\n",
    "\n",
    "- **K50**:  \n",
    "  Included after *ImageOrientationPatient* tolerance modification.\n",
    "\n",
    "- **G116**:  \n",
    "  Not filtered due to multiple reasons:\n",
    "  - Some *ImageOrientationPatient* values exceed the tolerance.\n",
    "  - Some *PixelSpacing* values are greater than 0.5.\n",
    "  - *SeriesDescription* contains \"2_0\", which is not included in the query.\n",
    "\n",
    "- **B27**:  \n",
    "  *SeriesStudy* variable was \"EXTERNAL CT-STORE & INTERPRET\", so this patient was not collected.\n"
   ]
  },
  {
   "cell_type": "markdown",
   "id": "30c14725",
   "metadata": {},
   "source": [
    "# Analysis"
   ]
  },
  {
   "cell_type": "markdown",
   "id": "b81b2642",
   "metadata": {},
   "source": [
    "## Performance Metrics"
   ]
  },
  {
   "cell_type": "markdown",
   "id": "3474c9fb",
   "metadata": {},
   "source": [
    "You will have to first compute some basic metrics on these data:\n",
    "\n",
    "1. Compute AUROC (Area Under the ROC Curve) of Model_1 and Model_2 and select\n",
    "the one with a higher AUROC.\n",
    "\n",
    "\n",
    "2. Compute sensitivity and specificity with these thresholds: [0.3, 0.5, 0.7, 0.9].\n",
    "Select the threshold that results in a specificity of around 80%.\n",
    "\n",
    "\n",
    "3. Select the False Negative patients obtained with the selected threshold in the\n",
    "previous step."
   ]
  },
  {
   "cell_type": "code",
   "execution_count": 53,
   "id": "53c21cf9",
   "metadata": {},
   "outputs": [
    {
     "name": "stderr",
     "output_type": "stream",
     "text": [
      "/home/carlosgil/.pyenv/versions/3.10.6/envs/lewagon/lib/python3.10/site-packages/scipy/__init__.py:146: UserWarning: A NumPy version >=1.17.3 and <1.25.0 is required for this version of SciPy (detected version 1.26.4\n",
      "  warnings.warn(f\"A NumPy version >={np_minversion} and <{np_maxversion}\"\n"
     ]
    }
   ],
   "source": [
    "import pandas as pd\n",
    "from sklearn.metrics import roc_auc_score, confusion_matrix"
   ]
  },
  {
   "cell_type": "code",
   "execution_count": 54,
   "id": "d207541f",
   "metadata": {},
   "outputs": [],
   "source": [
    "file_path = 'data/part2_inferences.csv'"
   ]
  },
  {
   "cell_type": "code",
   "execution_count": 55,
   "id": "ead526cb",
   "metadata": {},
   "outputs": [],
   "source": [
    "df2 = pd.read_csv(file_path, low_memory=False)"
   ]
  },
  {
   "cell_type": "code",
   "execution_count": 56,
   "id": "529df7fa",
   "metadata": {},
   "outputs": [
    {
     "name": "stdout",
     "output_type": "stream",
     "text": [
      "<class 'pandas.core.frame.DataFrame'>\n",
      "RangeIndex: 50 entries, 0 to 49\n",
      "Data columns (total 4 columns):\n",
      " #   Column        Non-Null Count  Dtype  \n",
      "---  ------        --------------  -----  \n",
      " 0   Patient_name  50 non-null     object \n",
      " 1   Model_1       50 non-null     float64\n",
      " 2   Model_2       50 non-null     float64\n",
      " 3   Ground_truth  50 non-null     int64  \n",
      "dtypes: float64(2), int64(1), object(1)\n",
      "memory usage: 1.7+ KB\n"
     ]
    }
   ],
   "source": [
    "df2.info()"
   ]
  },
  {
   "cell_type": "code",
   "execution_count": 57,
   "id": "dc70e43d",
   "metadata": {},
   "outputs": [
    {
     "data": {
      "text/html": [
       "<div>\n",
       "<style scoped>\n",
       "    .dataframe tbody tr th:only-of-type {\n",
       "        vertical-align: middle;\n",
       "    }\n",
       "\n",
       "    .dataframe tbody tr th {\n",
       "        vertical-align: top;\n",
       "    }\n",
       "\n",
       "    .dataframe thead th {\n",
       "        text-align: right;\n",
       "    }\n",
       "</style>\n",
       "<table border=\"1\" class=\"dataframe\">\n",
       "  <thead>\n",
       "    <tr style=\"text-align: right;\">\n",
       "      <th></th>\n",
       "      <th>Patient_name</th>\n",
       "      <th>Model_1</th>\n",
       "      <th>Model_2</th>\n",
       "      <th>Ground_truth</th>\n",
       "    </tr>\n",
       "  </thead>\n",
       "  <tbody>\n",
       "    <tr>\n",
       "      <th>0</th>\n",
       "      <td>X77</td>\n",
       "      <td>0.374540</td>\n",
       "      <td>0.969585</td>\n",
       "      <td>0</td>\n",
       "    </tr>\n",
       "    <tr>\n",
       "      <th>1</th>\n",
       "      <td>X3</td>\n",
       "      <td>0.950714</td>\n",
       "      <td>0.775133</td>\n",
       "      <td>1</td>\n",
       "    </tr>\n",
       "    <tr>\n",
       "      <th>2</th>\n",
       "      <td>X99</td>\n",
       "      <td>0.731994</td>\n",
       "      <td>0.939499</td>\n",
       "      <td>0</td>\n",
       "    </tr>\n",
       "    <tr>\n",
       "      <th>3</th>\n",
       "      <td>K18</td>\n",
       "      <td>0.598658</td>\n",
       "      <td>0.894827</td>\n",
       "      <td>0</td>\n",
       "    </tr>\n",
       "    <tr>\n",
       "      <th>4</th>\n",
       "      <td>X13</td>\n",
       "      <td>0.156019</td>\n",
       "      <td>0.597900</td>\n",
       "      <td>1</td>\n",
       "    </tr>\n",
       "  </tbody>\n",
       "</table>\n",
       "</div>"
      ],
      "text/plain": [
       "  Patient_name   Model_1   Model_2  Ground_truth\n",
       "0          X77  0.374540  0.969585             0\n",
       "1           X3  0.950714  0.775133             1\n",
       "2          X99  0.731994  0.939499             0\n",
       "3          K18  0.598658  0.894827             0\n",
       "4          X13  0.156019  0.597900             1"
      ]
     },
     "execution_count": 57,
     "metadata": {},
     "output_type": "execute_result"
    }
   ],
   "source": [
    "df2.head()"
   ]
  },
  {
   "cell_type": "markdown",
   "id": "be74b24f",
   "metadata": {
    "heading_collapsed": true
   },
   "source": [
    "### Code asuming the statement is calculate False Negatives"
   ]
  },
  {
   "cell_type": "code",
   "execution_count": 66,
   "id": "70b6f2de",
   "metadata": {
    "hidden": true
   },
   "outputs": [
    {
     "name": "stdout",
     "output_type": "stream",
     "text": [
      "1. Compute AUROC for Model_1 and Model_2, and select the one with the higher AUROC \n",
      "\n",
      "Best model: Model_1, \n",
      "AUROC Model_1: 0.5096153846153846 \n",
      "AUROC Model_2: 0.34134615384615385 \n",
      "\n",
      "2. Compute sensitivity and specificity for thresholds [0.3, 0.5, 0.7, 0.9] \n",
      "\n",
      "Threshold: 0.3, Sensitivity: 0.67, Specificity: 0.42\n",
      "Threshold: 0.5, Sensitivity: 0.42, Specificity: 0.54\n",
      "Threshold: 0.7, Sensitivity: 0.25, Specificity: 0.81\n",
      "Threshold: 0.9, Sensitivity: 0.12, Specificity: 0.92\n",
      "Selected threshold: 0.7 \n",
      "\n",
      "3. Select False Negative patients with the selected threshold \n",
      "\n",
      "False Negative patients: ['X13', 'D7', 'D20', 'X34', 'K32', 'K51', 'G12', 'E76', 'K7', 'X17', 'B27', 'K67', 'E15', 'K3', 'X69', 'G121', 'G136', 'G116']\n"
     ]
    }
   ],
   "source": [
    "# 1. Compute AUROC for Model_1 and Model_2, and select the one with the higher AUROC\n",
    "auroc_model_1 = roc_auc_score(df2['Ground_truth'], df2['Model_1'])\n",
    "auroc_model_2 = roc_auc_score(df2['Ground_truth'], df2['Model_2'])\n",
    "\n",
    "if auroc_model_1 > auroc_model_2:\n",
    "    best_model = 'Model_1'\n",
    "    predictions = df2['Model_1']\n",
    "else:\n",
    "    best_model = 'Model_2'\n",
    "    predictions = df2['Model_2']\n",
    "\n",
    "print('1. Compute AUROC for Model_1 and Model_2, and select the one with the higher AUROC', '\\n')\n",
    "    \n",
    "print(f\"Best model: {best_model}, \\nAUROC Model_1: {auroc_model_1} \\nAUROC Model_2: {auroc_model_2}\",'\\n')\n",
    "\n",
    "# 2. Compute sensitivity and specificity for thresholds [0.3, 0.5, 0.7, 0.9]\n",
    "thresholds = [0.3, 0.5, 0.7, 0.9]\n",
    "best_threshold = None\n",
    "\n",
    "def calculate_sensitivity_specificity(y_true, y_pred, threshold):\n",
    "    y_pred_thresh = (y_pred >= threshold).astype(int)\n",
    "    tn, fp, fn, tp = confusion_matrix(y_true, y_pred_thresh).ravel()\n",
    "    sensitivity = tp / (tp + fn) if (tp + fn) > 0 else 0\n",
    "    specificity = tn / (tn + fp) if (tn + fp) > 0 else 0\n",
    "    return sensitivity, specificity\n",
    "\n",
    "print(\"2. Compute sensitivity and specificity for thresholds [0.3, 0.5, 0.7, 0.9]\",'\\n')\n",
    "\n",
    "for threshold in thresholds:\n",
    "    sensitivity, specificity = calculate_sensitivity_specificity(df2['Ground_truth'], predictions, threshold)\n",
    "    print(f\"Threshold: {threshold}, Sensitivity: {sensitivity:.2f}, Specificity: {specificity:.2f}\")\n",
    "    if 0.75 <= specificity <= 0.85:  # Selecting the threshold with specificity around 80%\n",
    "        best_threshold = threshold\n",
    "\n",
    "print(f\"Selected threshold: {best_threshold}\",'\\n')\n",
    "\n",
    "# 3. Select False Negative patients with the selected threshold\n",
    "\n",
    "print('3. Select False Negative patients with the selected threshold','\\n')\n",
    "\n",
    "if best_threshold is not None:\n",
    "    y_pred_thresh = (predictions >= best_threshold).astype(int)\n",
    "    df2['False_Negative'] = ((df2['Ground_truth'] == 1) & (y_pred_thresh == 0))\n",
    "    false_negative_patients = df2[df2['False_Negative']]['Patient_name']\n",
    "    print(\"False Negative patients:\", false_negative_patients.tolist())\n",
    "else:\n",
    "    print(\"No threshold resulted in a specificity around 80%.\")"
   ]
  },
  {
   "cell_type": "markdown",
   "id": "c6711d63",
   "metadata": {},
   "source": [
    "### Code asuming the statement is calculate False Positives"
   ]
  },
  {
   "cell_type": "code",
   "execution_count": 59,
   "id": "b67e49aa",
   "metadata": {},
   "outputs": [
    {
     "name": "stdout",
     "output_type": "stream",
     "text": [
      "1. Compute AUROC for Model_1 and Model_2, and select the one with the higher AUROC \n",
      "\n",
      "Best model: Model_1, \n",
      "AUROC Model_1: 0.5096153846153846 \n",
      "AUROC Model_2: 0.34134615384615385 \n",
      "\n",
      "2. Compute sensitivity and specificity for thresholds [0.3, 0.5, 0.7, 0.9] \n",
      "\n",
      "Threshold: 0.3, Sensitivity: 0.67, Specificity: 0.42\n",
      "Threshold: 0.5, Sensitivity: 0.42, Specificity: 0.54\n",
      "Threshold: 0.7, Sensitivity: 0.25, Specificity: 0.81\n",
      "Threshold: 0.9, Sensitivity: 0.12, Specificity: 0.92\n",
      "Selected threshold: 0.7 \n",
      "\n",
      "3. Select False Positive patients with the selected threshold \n",
      "\n",
      "False Positive patients: ['X99', 'G30', 'K91', 'E139', 'G66']\n"
     ]
    }
   ],
   "source": [
    "# 1. Compute AUROC for Model_1 and Model_2, and select the one with the higher AUROC\n",
    "auroc_model_1 = roc_auc_score(df2['Ground_truth'], df2['Model_1'])\n",
    "auroc_model_2 = roc_auc_score(df2['Ground_truth'], df2['Model_2'])\n",
    "\n",
    "if auroc_model_1 > auroc_model_2:\n",
    "    best_model = 'Model_1'\n",
    "    predictions = df2['Model_1']\n",
    "else:\n",
    "    best_model = 'Model_2'\n",
    "    predictions = df2['Model_2']\n",
    "\n",
    "print('1. Compute AUROC for Model_1 and Model_2, and select the one with the higher AUROC', '\\n')\n",
    "    \n",
    "print(f\"Best model: {best_model}, \\nAUROC Model_1: {auroc_model_1} \\nAUROC Model_2: {auroc_model_2}\",'\\n')\n",
    "\n",
    "# 2. Compute sensitivity and specificity for thresholds [0.3, 0.5, 0.7, 0.9]\n",
    "thresholds = [0.3, 0.5, 0.7, 0.9]\n",
    "best_threshold = None\n",
    "\n",
    "def calculate_sensitivity_specificity(y_true, y_pred, threshold):\n",
    "    y_pred_thresh = (y_pred >= threshold).astype(int)\n",
    "    tn, fp, fn, tp = confusion_matrix(y_true, y_pred_thresh).ravel()\n",
    "    sensitivity = tp / (tp + fn) if (tp + fn) > 0 else 0\n",
    "    specificity = tn / (tn + fp) if (tn + fp) > 0 else 0\n",
    "    return sensitivity, specificity\n",
    "\n",
    "print(\"2. Compute sensitivity and specificity for thresholds [0.3, 0.5, 0.7, 0.9]\",'\\n')\n",
    "\n",
    "for threshold in thresholds:\n",
    "    sensitivity, specificity = calculate_sensitivity_specificity(df2['Ground_truth'], predictions, threshold)\n",
    "    print(f\"Threshold: {threshold}, Sensitivity: {sensitivity:.2f}, Specificity: {specificity:.2f}\")\n",
    "    if 0.75 <= specificity <= 0.85:  # Selecting the threshold with specificity around 80%\n",
    "        best_threshold = threshold\n",
    "\n",
    "print(f\"Selected threshold: {best_threshold}\",'\\n')\n",
    "\n",
    "# 3. Select False Positive patients with the selected threshold\n",
    "\n",
    "print('3. Select False Positive patients with the selected threshold','\\n')\n",
    "\n",
    "if best_threshold is not None:\n",
    "    y_pred_thresh = (predictions >= best_threshold).astype(int)\n",
    "    df2['False_Positive'] = ((df2['Ground_truth'] == 0) & (y_pred_thresh == 1))\n",
    "    false_positive_patients = df2[df2['False_Positive']]['Patient_name']\n",
    "    print(\"False Positive patients:\", false_positive_patients.tolist())\n",
    "else:\n",
    "    print(\"No threshold resulted in a specificity around 80%.\")"
   ]
  },
  {
   "cell_type": "markdown",
   "id": "34b8fe7f",
   "metadata": {},
   "source": [
    "## Image Analysis "
   ]
  },
  {
   "cell_type": "markdown",
   "id": "181b6dbb",
   "metadata": {},
   "source": [
    "For the two images selected in the previous task, apply the corresponding masks\n",
    "to each image, visualize each masked image and give a small comment on what\n",
    "you see in that region and how it correlates with the histogram"
   ]
  },
  {
   "cell_type": "code",
   "execution_count": 60,
   "id": "9cb208bb",
   "metadata": {},
   "outputs": [],
   "source": [
    "import os\n",
    "import SimpleITK as sitk\n",
    "import numpy as np\n",
    "import matplotlib.pyplot as plt"
   ]
  },
  {
   "cell_type": "code",
   "execution_count": 62,
   "id": "4d5b38c0",
   "metadata": {},
   "outputs": [
    {
     "name": "stdout",
     "output_type": "stream",
     "text": [
      "Loading image from: data/imgs/E139.nii.gz\n",
      "Loading mask from: data/masks/E139_mask.nii.gz\n",
      "Loading image from: data/imgs/G30.nii.gz\n",
      "Loading mask from: data/masks/G30_mask.nii.gz\n",
      "Loading image from: data/imgs/G66.nii.gz\n",
      "Loading mask from: data/masks/G66_mask.nii.gz\n",
      "Loading image from: data/imgs/K91.nii.gz\n",
      "Loading mask from: data/masks/K91_mask.nii.gz\n",
      "Loading image from: data/imgs/X99.nii.gz\n",
      "Loading mask from: data/masks/X99_mask.nii.gz\n"
     ]
    }
   ],
   "source": [
    "# Define the paths to the images and masks\n",
    "img_dir = 'data/imgs' \n",
    "mask_dir = 'data/masks'\n",
    "\n",
    "# Function to load gzipped NIfTI files\n",
    "def load_gzipped_nifti_files(img_dir, mask_dir):\n",
    "    images = []\n",
    "    masks = []\n",
    "    patient_names = []\n",
    "    for img_file in sorted(os.listdir(img_dir)):\n",
    "        if img_file.endswith('.nii.gz'):  # Check for gzipped NIfTI images\n",
    "            img_path = os.path.join(img_dir, img_file)\n",
    "            \n",
    "            # Create the corresponding mask filename\n",
    "            mask_file_name = img_file.replace('.nii.gz', '_mask.nii.gz')\n",
    "            mask_path = os.path.join(mask_dir, mask_file_name)\n",
    "            \n",
    "            # Print paths for debugging\n",
    "            print(f\"Loading image from: {img_path}\")\n",
    "            print(f\"Loading mask from: {mask_path}\")\n",
    "\n",
    "            # Check if mask file exists\n",
    "            if not os.path.exists(mask_path):\n",
    "                print(f\"Warning: Mask file {mask_path} does not exist. Skipping this file.\")\n",
    "                continue\n",
    "            \n",
    "            image = sitk.GetArrayFromImage(sitk.ReadImage(img_path))\n",
    "            mask = sitk.GetArrayFromImage(sitk.ReadImage(mask_path))\n",
    "            images.append(image)\n",
    "            masks.append(mask)\n",
    "            patient_names.append(img_file.split('.')[0])\n",
    "    return images, masks, patient_names\n",
    "\n",
    "# Load images and masks\n",
    "images, masks, patient_names = load_gzipped_nifti_files(img_dir, mask_dir)"
   ]
  },
  {
   "cell_type": "markdown",
   "id": "4c72ae78",
   "metadata": {},
   "source": [
    "### Compute the image histogram. You should see that two patients have something weird in the histogram, identify them."
   ]
  },
  {
   "cell_type": "code",
   "execution_count": 63,
   "id": "b498596b",
   "metadata": {},
   "outputs": [
    {
     "data": {
      "image/png": "[encoded data removed]",
      "text/plain": [
       "<Figure size 2000x500 with 5 Axes>"
      ]
     },
     "metadata": {},
     "output_type": "display_data"
    }
   ],
   "source": [
    "# 1. Compute the image histogram and plot all histograms side by side\n",
    "histograms = []\n",
    "for i, image in enumerate(images):\n",
    "    # Compute histogram\n",
    "    hist, bin_edges = np.histogram(image.flatten(), bins=50)\n",
    "    histograms.append((patient_names[i], hist, bin_edges))  # Store histogram with patient name\n",
    "\n",
    "# Plot all histograms side by side\n",
    "plt.figure(figsize=(20, 5))  # Adjust the figure size for better visibility\n",
    "for i, (patient_name, hist, bin_edges) in enumerate(histograms):\n",
    "    plt.subplot(1, len(histograms), i + 1)\n",
    "    plt.title(f'Histogram for {patient_name}')\n",
    "    plt.xlabel('Voxel Intensity')\n",
    "    plt.ylabel('Frequency')\n",
    "    plt.plot(bin_edges[1:], hist)\n",
    "\n",
    "plt.tight_layout()\n",
    "plt.show()"
   ]
  },
  {
   "cell_type": "markdown",
   "id": "bf09c345",
   "metadata": {},
   "source": [
    "#### Normal Patient Histograms\n",
    "**Patients:** G66, K91, and X99\n",
    "\n",
    "Their histogram has 3 peaks:\n",
    "\n",
    "- **First Peak:** \n",
    "  - Centered at 0 Voxel Intensity \n",
    "  - Around 1 * 10<sup>6</sup> Frequency\n",
    "  \n",
    "- **Second Peak:** \n",
    "  - Centered at -1000 Voxel Intensity \n",
    "  - Around 3.5 * 10<sup>6</sup> Frequency\n",
    "  \n",
    "- **Third Peak:** \n",
    "  - Centered at -3000 Voxel Intensity \n",
    "  - Around 1.5 * 10<sup>6</sup> Frequency\n",
    "\n",
    "\n",
    "#### Abnormal Patient Histograms\n",
    "\n",
    "##### E139:\n",
    "\n",
    "- **First Peak:** \n",
    "  - Centered at 0 Voxel Intensity \n",
    "  - Around 1 * 10<sup>6</sup> Frequency\n",
    "  \n",
    "- **Second Peak:** \n",
    "  - Centered at -1000 Voxel Intensity \n",
    "  - Around 2 * 10<sup>6</sup> Frequency *abnormal from others in frequency*\n",
    "  \n",
    "- **Third Peak:** \n",
    "  - Centered at -3000 Voxel Intensity \n",
    "  - Around 5 * 10<sup>6</sup> Frequency *abnormal from others in frequency*\n",
    "\n",
    "\n",
    "##### G30:\n",
    "\n",
    "- **First Peak:** \n",
    "  - Centered at 2000 Voxel Intensity \n",
    "  - Around 1 * 10<sup>6</sup> Frequency *abnormal from others in voxel intensity*\n",
    "  \n",
    "- **Second Peak:** \n",
    "  - Centered at 1000 Voxel Intensity \n",
    "  - Around 3.5 * 10<sup>6</sup> Frequency *abnormal from others in voxel intensity*\n",
    "  \n",
    "- **Third Peak:** \n",
    "  - Centered at -1000 Voxel Intensity \n",
    "  - Around 1.5 * 10<sup>6</sup> Frequency *abnormal from others in voxel intensity*\n"
   ]
  },
  {
   "cell_type": "markdown",
   "id": "574991ac",
   "metadata": {},
   "source": [
    "### Visualize the masked images for abnormal patients"
   ]
  },
  {
   "cell_type": "markdown",
   "id": "a031a815",
   "metadata": {},
   "source": [
    "#### Patient E139"
   ]
  },
  {
   "cell_type": "code",
   "execution_count": 64,
   "id": "6d2edf75",
   "metadata": {},
   "outputs": [
    {
     "data": {
      "image/png": "[encoded data removed]",
      "text/plain": [
       "<Figure size 2000x500 with 4 Axes>"
      ]
     },
     "metadata": {},
     "output_type": "display_data"
    },
    {
     "name": "stdout",
     "output_type": "stream",
     "text": [
      "Analysis for Patient E139:\n",
      "Scan is not valid as there is no information for half of the image\n"
     ]
    }
   ],
   "source": [
    "abnormal_patients = ['E139']\n",
    "\n",
    "# Visualize the masked images for abnormal patients\n",
    "for patient_name in abnormal_patients:\n",
    "    idx = patient_names.index(patient_name)  # Get the index of the abnormal patient\n",
    "    \n",
    "    img = images[idx]\n",
    "    mask = masks[idx]\n",
    "    \n",
    "    # Select the central slice\n",
    "    central_slice_index = img.shape[0] // 2\n",
    "    img_slice = img[central_slice_index]\n",
    "    mask_slice = mask[central_slice_index]\n",
    "    \n",
    "    # Apply mask to image\n",
    "    masked_image = img_slice * mask_slice\n",
    "    \n",
    "    # Visualization\n",
    "    plt.figure(figsize=(20, 5))\n",
    "    \n",
    "    plt.subplot(1, 3, 1)\n",
    "    plt.title(f'Original Image Slice for {patient_name}')\n",
    "    plt.imshow(img_slice, cmap='gray', vmin=-1000, vmax=1000)  # Set vmin and vmax for intensity range\n",
    "\n",
    "    plt.subplot(1, 3, 2)\n",
    "    plt.title(f'Mask for {patient_name}')\n",
    "    plt.imshow(mask_slice, cmap='gray', vmin=0, vmax=1)\n",
    "    \n",
    "    plt.subplot(1, 3, 3)\n",
    "    plt.title(f'Masked Image Slice for {patient_name}')\n",
    "    plt.imshow(masked_image, cmap='gray', vmin=-1000, vmax=1000)  # Set vmin and vmax for intensity range\n",
    "    plt.colorbar()\n",
    "    \n",
    "    plt.tight_layout()\n",
    "    plt.show()\n",
    "\n",
    "    # Comment on the region of interest based on histogram analysis\n",
    "    print(f\"Analysis for Patient {patient_name}:\")\n",
    "    print(\"Scan is not valid as there is no information for half of the image\")\n"
   ]
  },
  {
   "cell_type": "markdown",
   "id": "aac43844",
   "metadata": {},
   "source": [
    "#### Patient G30"
   ]
  },
  {
   "cell_type": "code",
   "execution_count": 65,
   "id": "149508e9",
   "metadata": {},
   "outputs": [
    {
     "data": {
      "image/png": "[encoded data removed]",
      "text/plain": [
       "<Figure size 2000x500 with 4 Axes>"
      ]
     },
     "metadata": {},
     "output_type": "display_data"
    },
    {
     "name": "stdout",
     "output_type": "stream",
     "text": [
      "Analysis for Patient G30:\n",
      "The scan is fine but the pixel intensity is too bright - over the range - so needs to be modified\n"
     ]
    }
   ],
   "source": [
    "abnormal_patients = ['G30']\n",
    "\n",
    "# Visualize the masked images for abnormal patients\n",
    "for patient_name in abnormal_patients:\n",
    "    idx = patient_names.index(patient_name)  # Get the index of the abnormal patient\n",
    "    \n",
    "    img = images[idx]\n",
    "    mask = masks[idx]\n",
    "    \n",
    "    # Select the central slice\n",
    "    central_slice_index = img.shape[0] // 2\n",
    "    img_slice = img[central_slice_index]\n",
    "    mask_slice = mask[central_slice_index]\n",
    "    \n",
    "    # Apply mask to image\n",
    "    masked_image = img_slice * mask_slice\n",
    "    \n",
    "    # Visualization\n",
    "    plt.figure(figsize=(20, 5))\n",
    "    \n",
    "    plt.subplot(1, 3, 1)\n",
    "    plt.title(f'Original Image Slice for {patient_name}')\n",
    "    plt.imshow(img_slice, cmap='gray', vmin=1000, vmax=3000)  # Set vmin and vmax for intensity range\n",
    "\n",
    "    plt.subplot(1, 3, 2)\n",
    "    plt.title(f'Mask for {patient_name}')\n",
    "    plt.imshow(mask_slice, cmap='gray', vmin=0, vmax=1)\n",
    "    \n",
    "    plt.subplot(1, 3, 3)\n",
    "    plt.title(f'Masked Image Slice for {patient_name}')\n",
    "    plt.imshow(masked_image, cmap='gray', vmin=1000, vmax=3000)  # Set vmin and vmax for intensity range\n",
    "    plt.colorbar()\n",
    "    \n",
    "    plt.tight_layout()\n",
    "    plt.show()\n",
    "\n",
    "    # Comment on the region of interest based on histogram analysis\n",
    "    print(f\"Analysis for Patient {patient_name}:\")\n",
    "    print(\"The scan is fine but the pixel intensity is too bright - over the range - so needs to be modified\")\n"
   ]
  }
 ],
 "metadata": {
  "kernelspec": {
   "display_name": "Python 3 (ipykernel)",
   "language": "python",
   "name": "python3"
  },
  "language_info": {
   "codemirror_mode": {
    "name": "ipython",
    "version": 3
   },
   "file_extension": ".py",
   "mimetype": "text/x-python",
   "name": "python",
   "nbconvert_exporter": "python",
   "pygments_lexer": "ipython3",
   "version": "3.10.6"
  },
  "toc": {
   "base_numbering": 1,
   "nav_menu": {},
   "number_sections": true,
   "sideBar": true,
   "skip_h1_title": false,
   "title_cell": "Table of Contents",
   "title_sidebar": "Contents",
   "toc_cell": false,
   "toc_position": {},
   "toc_section_display": true,
   "toc_window_display": false
  }
 },
 "nbformat": 4,
 "nbformat_minor": 5
}
