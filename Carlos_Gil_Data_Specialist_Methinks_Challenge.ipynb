{
 "cells": [
  {
   "cell_type": "code",
   "execution_count": 716,
   "id": "cec3c952",
   "metadata": {},
   "outputs": [
    {
     "ename": "SyntaxError",
     "evalue": "invalid syntax (3295957230.py, line 1)",
     "output_type": "error",
     "traceback": [
      "\u001b[0;36m  Cell \u001b[0;32mIn [716], line 1\u001b[0;36m\u001b[0m\n\u001b[0;31m    PENDINGNfirst (in time) NCCT acquired.\u001b[0m\n\u001b[0m                   ^\u001b[0m\n\u001b[0;31mSyntaxError\u001b[0m\u001b[0;31m:\u001b[0m invalid syntax\n"
     ]
    }
   ],
   "source": [
    "PENDING\n",
    "\n",
    "first (in time) NCCT acquired."
   ]
  },
  {
   "cell_type": "markdown",
   "id": "e8480aac",
   "metadata": {},
   "source": [
    "#  Cleaning and Inventory"
   ]
  },
  {
   "cell_type": "markdown",
   "id": "87700bb9",
   "metadata": {},
   "source": [
    "In this pack there are 326 stroke patients which have a total of 8454 images associated. Using the folder of images that we receive from the hospital X, we create the part1_inventory_test.csv which contains all the metadata of the received images. The initial file format follows the DICOM standard, which you can check here: https://dicom.innolitics.com/ciods. In the part1_inventory_test.csv file each row represents an image in the package, and each column a dicom standard metadata field.\n",
    "\n",
    "In order to apply our deep learning algorithms to this dataset, we first have to select the correct NCCT (Non-Contrast CT) image (out of the many images that we have) for each patient. Selecting the right NCCT is critical to achieve a good performance in the clinical study or to train a good algorithm. \n",
    "\n",
    "The challenge consists on a small simplified version of this task: \n",
    "\n",
    "● Select the correct NCCT image for each of the 326 patients. \n",
    "\n",
    "● The correct NCCT must meet the following characteristics: non-contrast image, CT modality, axial orientation, slice thickness between 2.5 and 5 mm’s, first (in time) NCCT acquired. \n",
    "\n",
    "Some hints on the data: \n",
    "\n",
    "● A patient (PatientID) may have several studies (StudyInstanceUID - group of images), and within the study there can be many images (SeriesInstanceUID - single image).\n",
    "\n",
    "● Each row of the part1_inventory_test.csv is the metadata of the image (unique SeriesInstanceUID). \n",
    "\n",
    "● In this inventory you may find different kinds of image modalities: CT (NCCT or CTA), DWI, MRI, CTP, etc. Note that the DICOM modality column is not enough to complete the exercise, as NCCT and CTA are both CTs.\n",
    "\n",
    "● The most difficult ambiguity to discern using only image metadata is whether the image is an NCCT or a CTA, you have an image above of how they look (A CTA is a CT acquisition with an injection of contrast in the patient's arteries).\n",
    "\n",
    "● Other important data fields: Modality, ImageOrientationPatient, SeriesDescription, StudyDescription, ImageType, SliceThickness, etc. \n",
    "\n",
    "Since we have already solved it, we will provide you with an example of 25 selected NCCT images (example_solution.csv) with some relevant fields, in order to show you an example of how the final result should look like. "
   ]
  },
  {
   "cell_type": "code",
   "execution_count": 679,
   "id": "dbd304e7",
   "metadata": {},
   "outputs": [],
   "source": [
    "import pandas as pd"
   ]
  },
  {
   "cell_type": "code",
   "execution_count": 680,
   "id": "d3fc0d53",
   "metadata": {},
   "outputs": [
    {
     "name": "stdout",
     "output_type": "stream",
     "text": [
      "/home/carlosgil/code/Charlie5545/data-specialist-methinks-challenge/data-specialist-methinks-challenge\r\n"
     ]
    }
   ],
   "source": [
    "!pwd"
   ]
  },
  {
   "cell_type": "code",
   "execution_count": 681,
   "id": "c3705f30",
   "metadata": {},
   "outputs": [],
   "source": [
    "df = pd.read_csv('data/part1_inventory_test.csv',low_memory = False)"
   ]
  },
  {
   "cell_type": "code",
   "execution_count": 682,
   "id": "90186d11",
   "metadata": {},
   "outputs": [
    {
     "name": "stdout",
     "output_type": "stream",
     "text": [
      "<class 'pandas.core.frame.DataFrame'>\n",
      "RangeIndex: 8454 entries, 0 to 8453\n",
      "Columns: 206 entries, PatientID to RouteOfAdmissions\n",
      "dtypes: float64(113), int64(13), object(80)\n",
      "memory usage: 13.3+ MB\n"
     ]
    }
   ],
   "source": [
    "df.info()"
   ]
  },
  {
   "cell_type": "code",
   "execution_count": 683,
   "id": "eb06e17a",
   "metadata": {},
   "outputs": [],
   "source": [
    "solution_df = pd.read_csv('data/example_solution.csv',low_memory = False)"
   ]
  },
  {
   "cell_type": "code",
   "execution_count": 684,
   "id": "2c6f0588",
   "metadata": {},
   "outputs": [
    {
     "name": "stdout",
     "output_type": "stream",
     "text": [
      "<class 'pandas.core.frame.DataFrame'>\n",
      "RangeIndex: 25 entries, 0 to 24\n",
      "Data columns (total 8 columns):\n",
      " #   Column             Non-Null Count  Dtype  \n",
      "---  ------             --------------  -----  \n",
      " 0   PatientID          25 non-null     object \n",
      " 1   StudyInstanceUID   25 non-null     object \n",
      " 2   SeriesInstanceUID  25 non-null     object \n",
      " 3   StudyDescription   25 non-null     object \n",
      " 4   SeriesDescription  25 non-null     object \n",
      " 5   PixelSpacing       25 non-null     object \n",
      " 6   SliceThickness     25 non-null     float64\n",
      " 7   ConvolutionKernel  25 non-null     object \n",
      "dtypes: float64(1), object(7)\n",
      "memory usage: 1.7+ KB\n"
     ]
    }
   ],
   "source": [
    "solution_df.info()"
   ]
  },
  {
   "cell_type": "code",
   "execution_count": 685,
   "id": "94f37f44",
   "metadata": {},
   "outputs": [
    {
     "data": {
      "text/plain": [
       "['PatientID',\n",
       " 'StudyInstanceUID',\n",
       " 'SeriesInstanceUID',\n",
       " 'StudyDescription',\n",
       " 'SeriesDescription',\n",
       " 'PixelSpacing',\n",
       " 'SliceThickness',\n",
       " 'ConvolutionKernel',\n",
       " 'ImageOrientationPatient',\n",
       " 'Modality']"
      ]
     },
     "execution_count": 685,
     "metadata": {},
     "output_type": "execute_result"
    }
   ],
   "source": [
    "filtered_columns = list(solution_df.columns) + ['ImageOrientationPatient','Modality']\n",
    "filtered_columns"
   ]
  },
  {
   "cell_type": "code",
   "execution_count": 686,
   "id": "a657016a",
   "metadata": {},
   "outputs": [],
   "source": [
    "df = df[filtered_columns]"
   ]
  },
  {
   "cell_type": "code",
   "execution_count": 687,
   "id": "93935264",
   "metadata": {},
   "outputs": [
    {
     "name": "stdout",
     "output_type": "stream",
     "text": [
      "<class 'pandas.core.frame.DataFrame'>\n",
      "RangeIndex: 8454 entries, 0 to 8453\n",
      "Data columns (total 10 columns):\n",
      " #   Column                   Non-Null Count  Dtype  \n",
      "---  ------                   --------------  -----  \n",
      " 0   PatientID                8454 non-null   object \n",
      " 1   StudyInstanceUID         8454 non-null   object \n",
      " 2   SeriesInstanceUID        8454 non-null   object \n",
      " 3   StudyDescription         8454 non-null   object \n",
      " 4   SeriesDescription        8453 non-null   object \n",
      " 5   PixelSpacing             8365 non-null   object \n",
      " 6   SliceThickness           7410 non-null   float64\n",
      " 7   ConvolutionKernel        5033 non-null   object \n",
      " 8   ImageOrientationPatient  7709 non-null   object \n",
      " 9   Modality                 8454 non-null   object \n",
      "dtypes: float64(1), object(9)\n",
      "memory usage: 660.6+ KB\n"
     ]
    }
   ],
   "source": [
    "df.info()"
   ]
  },
  {
   "cell_type": "markdown",
   "id": "9be6c940",
   "metadata": {},
   "source": [
    "### Removing columns with < 30% NaN's "
   ]
  },
  {
   "cell_type": "code",
   "execution_count": 688,
   "id": "49574e1b",
   "metadata": {},
   "outputs": [],
   "source": [
    "threshold = int(df.shape[0] * 0.3)\n",
    "df = df.dropna(axis=1, thresh=threshold)"
   ]
  },
  {
   "cell_type": "markdown",
   "id": "41349053",
   "metadata": {},
   "source": [
    "The correct NCCT must meet the following characteristics:\n",
    "\n",
    "    1) non-contrast image -> can't be defined straight forward\n",
    "    \n",
    "    2) CT modality -> can be filtered from 'Modality' == 'CT'\n",
    "    \n",
    "    3) axial orientation -> can be filtered from 'ImageOrientationPatient' == ['1', '0', '0', '0', '1', '0']\n",
    "    \n",
    "    4) slice thickness between 2.5 and 5 mm’s -> can be filtered from 2.5 <= 'SliceThickness' <= 5\n",
    "    \n",
    "    5) first (in time) NCCT acquired. -> \n",
    "    \n",
    "    Other columns used in solution_df or in the instructions to achieve 1) Non-contrast Image:\n",
    "    \n",
    "    6) 'SeriesDescription'\n",
    "    \n",
    "    7) 'StudyDescription'\n",
    "   \n",
    "    8) 'ImageType'\n",
    "    "
   ]
  },
  {
   "cell_type": "markdown",
   "id": "078ae0ec",
   "metadata": {},
   "source": [
    "## Modality == 'CT'"
   ]
  },
  {
   "cell_type": "code",
   "execution_count": 689,
   "id": "ced56dcc",
   "metadata": {},
   "outputs": [
    {
     "data": {
      "text/plain": [
       "array(['CT', 'MR', 'OT', 'XA'], dtype=object)"
      ]
     },
     "execution_count": 689,
     "metadata": {},
     "output_type": "execute_result"
    }
   ],
   "source": [
    "df.Modality.unique()"
   ]
  },
  {
   "cell_type": "code",
   "execution_count": 690,
   "id": "36bfb617",
   "metadata": {},
   "outputs": [],
   "source": [
    "modality_df = df[df.Modality == 'CT']"
   ]
  },
  {
   "cell_type": "code",
   "execution_count": 691,
   "id": "b830285f",
   "metadata": {},
   "outputs": [
    {
     "data": {
      "text/plain": [
       "326"
      ]
     },
     "execution_count": 691,
     "metadata": {},
     "output_type": "execute_result"
    }
   ],
   "source": [
    "modality_df.PatientID.unique().size"
   ]
  },
  {
   "cell_type": "markdown",
   "id": "5617bc3e",
   "metadata": {},
   "source": [
    "## Axial Orientation == ['1', '0', '0', '0', '1', '0']"
   ]
  },
  {
   "cell_type": "code",
   "execution_count": 692,
   "id": "4d63757f",
   "metadata": {},
   "outputs": [
    {
     "data": {
      "text/plain": [
       "306"
      ]
     },
     "execution_count": 692,
     "metadata": {},
     "output_type": "execute_result"
    }
   ],
   "source": [
    "df[df.ImageOrientationPatient == '1\\\\0\\\\0\\\\0\\\\1\\\\0'].PatientID.unique().size"
   ]
  },
  {
   "cell_type": "markdown",
   "id": "4f4c62a1",
   "metadata": {},
   "source": [
    "Defining 0.1 tolerance for Axial Orientation"
   ]
  },
  {
   "cell_type": "code",
   "execution_count": 693,
   "id": "3792bcf1",
   "metadata": {},
   "outputs": [],
   "source": [
    "def tolerance(value, target, tolerance=0.1):\n",
    "    if pd.isna(value):  # Check for NaN\n",
    "        return False\n",
    "    \n",
    "    # Convert value to string and split\n",
    "    components = list(map(float, str(value).split('\\\\')))\n",
    "    target_components = list(map(float, target.split('\\\\')))\n",
    "    \n",
    "    return all(abs(comp - tgt) <= tolerance for comp, tgt in zip(components, target_components))\n",
    "\n",
    "# Target string to compare against\n",
    "target_value = '1\\\\0\\\\0\\\\0\\\\1\\\\0'\n",
    "\n",
    "# Filtering the DataFrame based on closeness to the target value\n",
    "axial_df = modality_df[modality_df.ImageOrientationPatient.apply(lambda x: tolerance(x, target_value))]"
   ]
  },
  {
   "cell_type": "code",
   "execution_count": 694,
   "id": "2495330b",
   "metadata": {},
   "outputs": [
    {
     "data": {
      "text/plain": [
       "319"
      ]
     },
     "execution_count": 694,
     "metadata": {},
     "output_type": "execute_result"
    }
   ],
   "source": [
    "axial_df.PatientID.unique().size"
   ]
  },
  {
   "cell_type": "code",
   "execution_count": 695,
   "id": "640ad3ee",
   "metadata": {},
   "outputs": [
    {
     "name": "stdout",
     "output_type": "stream",
     "text": [
      "<class 'pandas.core.frame.DataFrame'>\n",
      "Int64Index: 4324 entries, 1 to 8447\n",
      "Data columns (total 10 columns):\n",
      " #   Column                   Non-Null Count  Dtype  \n",
      "---  ------                   --------------  -----  \n",
      " 0   PatientID                4324 non-null   object \n",
      " 1   StudyInstanceUID         4324 non-null   object \n",
      " 2   SeriesInstanceUID        4324 non-null   object \n",
      " 3   StudyDescription         4324 non-null   object \n",
      " 4   SeriesDescription        4324 non-null   object \n",
      " 5   PixelSpacing             4324 non-null   object \n",
      " 6   SliceThickness           4294 non-null   float64\n",
      " 7   ConvolutionKernel        3165 non-null   object \n",
      " 8   ImageOrientationPatient  4324 non-null   object \n",
      " 9   Modality                 4324 non-null   object \n",
      "dtypes: float64(1), object(9)\n",
      "memory usage: 371.6+ KB\n"
     ]
    }
   ],
   "source": [
    "axial_df.info()"
   ]
  },
  {
   "cell_type": "markdown",
   "id": "dc5b6dd8",
   "metadata": {},
   "source": [
    "## Slice Thickness"
   ]
  },
  {
   "cell_type": "code",
   "execution_count": 696,
   "id": "92df481e",
   "metadata": {},
   "outputs": [],
   "source": [
    "thickness_df = axial_df[(axial_df.SliceThickness >= 2.5) & (axial_df.SliceThickness <= 5)]"
   ]
  },
  {
   "cell_type": "code",
   "execution_count": 697,
   "id": "20d06864",
   "metadata": {},
   "outputs": [
    {
     "data": {
      "text/plain": [
       "305"
      ]
     },
     "execution_count": 697,
     "metadata": {},
     "output_type": "execute_result"
    }
   ],
   "source": [
    "thickness_df.PatientID.unique().size"
   ]
  },
  {
   "cell_type": "code",
   "execution_count": 698,
   "id": "74fa5ed8",
   "metadata": {},
   "outputs": [
    {
     "name": "stdout",
     "output_type": "stream",
     "text": [
      "<class 'pandas.core.frame.DataFrame'>\n",
      "Int64Index: 867 entries, 1 to 8393\n",
      "Data columns (total 10 columns):\n",
      " #   Column                   Non-Null Count  Dtype  \n",
      "---  ------                   --------------  -----  \n",
      " 0   PatientID                867 non-null    object \n",
      " 1   StudyInstanceUID         867 non-null    object \n",
      " 2   SeriesInstanceUID        867 non-null    object \n",
      " 3   StudyDescription         867 non-null    object \n",
      " 4   SeriesDescription        867 non-null    object \n",
      " 5   PixelSpacing             867 non-null    object \n",
      " 6   SliceThickness           867 non-null    float64\n",
      " 7   ConvolutionKernel        688 non-null    object \n",
      " 8   ImageOrientationPatient  867 non-null    object \n",
      " 9   Modality                 867 non-null    object \n",
      "dtypes: float64(1), object(9)\n",
      "memory usage: 74.5+ KB\n"
     ]
    }
   ],
   "source": [
    "thickness_df.info()"
   ]
  },
  {
   "cell_type": "markdown",
   "id": "9bddbf45",
   "metadata": {},
   "source": [
    "## Series Description"
   ]
  },
  {
   "cell_type": "markdown",
   "id": "740d690b",
   "metadata": {},
   "source": [
    "Words to take into account and further study: Stroke, Neuro,..?"
   ]
  },
  {
   "cell_type": "code",
   "execution_count": 699,
   "id": "de6aa5c8",
   "metadata": {},
   "outputs": [
    {
     "data": {
      "text/plain": [
       "772"
      ]
     },
     "execution_count": 699,
     "metadata": {},
     "output_type": "execute_result"
    }
   ],
   "source": [
    "df.SeriesDescription.unique().size"
   ]
  },
  {
   "cell_type": "code",
   "execution_count": 700,
   "id": "f2f50830",
   "metadata": {},
   "outputs": [
    {
     "data": {
      "text/plain": [
       "array(['Head__5_0__J37s__1', 'Head__3_0__J30s', 'Head_5_0',\n",
       "       'brain_Head_3_0', 'noncontrast_Head_3_0', 'brain_ST_Head_3_0',\n",
       "       'Head_SPIRAL_Spiral', 'Head__3_0__J37s__1', 'AXIAL_HEAD',\n",
       "       'noncontrast_Head_3_000', 'Head_3_0__Axial____FC64',\n",
       "       'HEAD_3_75mm_Soft', 'Head_WO__3_0__J30f__SOFT'], dtype=object)"
      ]
     },
     "execution_count": 700,
     "metadata": {},
     "output_type": "execute_result"
    }
   ],
   "source": [
    "solution_df.SeriesDescription.unique()"
   ]
  },
  {
   "cell_type": "code",
   "execution_count": 701,
   "id": "2f7320ac",
   "metadata": {},
   "outputs": [],
   "source": [
    "# Filtering based on 'Head', 'HEAD', or 'Brain' in 'SeriesDescription'\n",
    "seriesdesc_df = thickness_df[\n",
    "    thickness_df.SeriesDescription.str.contains('head|brain|Topogram', case=False, na=False)\n",
    "]"
   ]
  },
  {
   "cell_type": "code",
   "execution_count": 702,
   "id": "7f534467",
   "metadata": {},
   "outputs": [
    {
     "data": {
      "text/plain": [
       "291"
      ]
     },
     "execution_count": 702,
     "metadata": {},
     "output_type": "execute_result"
    }
   ],
   "source": [
    "seriesdesc_df.PatientID.unique().size"
   ]
  },
  {
   "cell_type": "code",
   "execution_count": 703,
   "id": "81714e24",
   "metadata": {},
   "outputs": [
    {
     "data": {
      "text/plain": [
       "58"
      ]
     },
     "execution_count": 703,
     "metadata": {},
     "output_type": "execute_result"
    }
   ],
   "source": [
    "seriesdesc_df.SeriesDescription.unique().size"
   ]
  },
  {
   "cell_type": "code",
   "execution_count": 507,
   "id": "b6972f75",
   "metadata": {},
   "outputs": [
    {
     "name": "stdout",
     "output_type": "stream",
     "text": [
      "<class 'pandas.core.frame.DataFrame'>\n",
      "Int64Index: 659 entries, 1 to 8393\n",
      "Data columns (total 10 columns):\n",
      " #   Column                   Non-Null Count  Dtype  \n",
      "---  ------                   --------------  -----  \n",
      " 0   PatientID                659 non-null    object \n",
      " 1   StudyInstanceUID         659 non-null    object \n",
      " 2   SeriesInstanceUID        659 non-null    object \n",
      " 3   StudyDescription         659 non-null    object \n",
      " 4   SeriesDescription        659 non-null    object \n",
      " 5   PixelSpacing             659 non-null    object \n",
      " 6   SliceThickness           659 non-null    float64\n",
      " 7   ConvolutionKernel        651 non-null    object \n",
      " 8   ImageOrientationPatient  659 non-null    object \n",
      " 9   Modality                 659 non-null    object \n",
      "dtypes: float64(1), object(9)\n",
      "memory usage: 56.6+ KB\n"
     ]
    }
   ],
   "source": [
    "seriesdesc_df.info()"
   ]
  },
  {
   "cell_type": "markdown",
   "id": "a16eff4b",
   "metadata": {},
   "source": [
    "## Study Description"
   ]
  },
  {
   "cell_type": "markdown",
   "id": "b12a1dfb",
   "metadata": {},
   "source": [
    "Not sure about:\n",
    "    \n",
    "CT BRAIN WO, CTA BRAIN & CEREBRAL PERFUSION (70496, 0042T) -> included in solution\n",
    "\n",
    "CT ANGIO HEAD & NECK W/WO (70496, 70498) -> not included in solution\n",
    "\n",
    "CT ANGIO HEAD W/WO CONTRAST (70496) ->not included in solution"
   ]
  },
  {
   "cell_type": "code",
   "execution_count": 582,
   "id": "728ca052",
   "metadata": {},
   "outputs": [
    {
     "data": {
      "text/plain": [
       "array(['CT BRAIN WO CONTRAST (70450)',\n",
       "       'CT BRAIN WO, CTA BRAIN & CEREBRAL PERFUSION (70496, 0042T)',\n",
       "       'MRI BRAIN W/WO CONTRAST (70553)',\n",
       "       'CT ANGIO HEAD & NECK W/WO (70496, 70498)',\n",
       "       'CTA BRAIN & CEREBRAL PERFUSION (70496, 0042T)',\n",
       "       'EXTERNAL CT-STORE & INTERPRET',\n",
       "       'CT ANGIO HEAD W/WO CONTRAST (70496)', 'EXTERNAL CT - STORE ONLY',\n",
       "       'MRI BRAIN WO CONTRAST (70551)', 'EXTERNAL CT - STORE ONLY - RAD',\n",
       "       'IR NEURO RADIOLOGY PROCEDURE',\n",
       "       'EXTERNAL CT BRAIN - STORE ONLY - RAD',\n",
       "       'EXTERNAL CTA HEAD - STORE ONLY - RAD',\n",
       "       'EXTERNAL CT BRAIN - STORE ONLY', 'EXTERNAL CTA HEAD - STORE ONLY',\n",
       "       'EXTERNAL CT BRAIN INTERPRET', 'EXTERNAL CTA HEAD INTERPRET'],\n",
       "      dtype=object)"
      ]
     },
     "execution_count": 582,
     "metadata": {},
     "output_type": "execute_result"
    }
   ],
   "source": [
    "df.StudyDescription.unique()"
   ]
  },
  {
   "cell_type": "code",
   "execution_count": 583,
   "id": "3a8083d8",
   "metadata": {},
   "outputs": [
    {
     "data": {
      "text/plain": [
       "array(['CT BRAIN WO, CTA BRAIN & CEREBRAL PERFUSION (70496, 0042T)',\n",
       "       'EXTERNAL CT - STORE ONLY', 'EXTERNAL CT - STORE ONLY - RAD',\n",
       "       'EXTERNAL CT BRAIN - STORE ONLY - RAD',\n",
       "       'EXTERNAL CT BRAIN - STORE ONLY', 'CT BRAIN WO CONTRAST (70450)',\n",
       "       'EXTERNAL CT BRAIN INTERPRET'], dtype=object)"
      ]
     },
     "execution_count": 583,
     "metadata": {},
     "output_type": "execute_result"
    }
   ],
   "source": [
    "solution_df.StudyDescription.unique()"
   ]
  },
  {
   "cell_type": "code",
   "execution_count": 584,
   "id": "1eb98f71",
   "metadata": {},
   "outputs": [],
   "source": [
    "# Filter StudyDescription to exclude CTA or Angio\n",
    "studydesc_df = seriesdesc_df[\n",
    "    (~seriesdesc_df.StudyDescription.str.contains('angio|CTA HEAD', case=False, na=False))\n",
    "]"
   ]
  },
  {
   "cell_type": "code",
   "execution_count": 585,
   "id": "88bcd1b8",
   "metadata": {},
   "outputs": [
    {
     "data": {
      "text/plain": [
       "array(['CT BRAIN WO CONTRAST (70450)',\n",
       "       'CT BRAIN WO, CTA BRAIN & CEREBRAL PERFUSION (70496, 0042T)',\n",
       "       'EXTERNAL CT-STORE & INTERPRET',\n",
       "       'CTA BRAIN & CEREBRAL PERFUSION (70496, 0042T)',\n",
       "       'EXTERNAL CT - STORE ONLY - RAD', 'EXTERNAL CT - STORE ONLY',\n",
       "       'EXTERNAL CT BRAIN - STORE ONLY - RAD',\n",
       "       'EXTERNAL CT BRAIN INTERPRET', 'EXTERNAL CT BRAIN - STORE ONLY'],\n",
       "      dtype=object)"
      ]
     },
     "execution_count": 585,
     "metadata": {},
     "output_type": "execute_result"
    }
   ],
   "source": [
    "studydesc_df.StudyDescription.unique()"
   ]
  },
  {
   "cell_type": "code",
   "execution_count": 586,
   "id": "e4bf85c0",
   "metadata": {},
   "outputs": [
    {
     "data": {
      "text/plain": [
       "287"
      ]
     },
     "execution_count": 586,
     "metadata": {},
     "output_type": "execute_result"
    }
   ],
   "source": [
    "studydesc_df.PatientID.unique().size"
   ]
  },
  {
   "cell_type": "code",
   "execution_count": 587,
   "id": "f498a728",
   "metadata": {},
   "outputs": [
    {
     "name": "stdout",
     "output_type": "stream",
     "text": [
      "<class 'pandas.core.frame.DataFrame'>\n",
      "Int64Index: 626 entries, 1 to 8393\n",
      "Data columns (total 10 columns):\n",
      " #   Column                   Non-Null Count  Dtype  \n",
      "---  ------                   --------------  -----  \n",
      " 0   PatientID                626 non-null    object \n",
      " 1   StudyInstanceUID         626 non-null    object \n",
      " 2   SeriesInstanceUID        626 non-null    object \n",
      " 3   StudyDescription         626 non-null    object \n",
      " 4   SeriesDescription        626 non-null    object \n",
      " 5   PixelSpacing             626 non-null    object \n",
      " 6   SliceThickness           626 non-null    float64\n",
      " 7   ConvolutionKernel        618 non-null    object \n",
      " 8   ImageOrientationPatient  626 non-null    object \n",
      " 9   Modality                 626 non-null    object \n",
      "dtypes: float64(1), object(9)\n",
      "memory usage: 53.8+ KB\n"
     ]
    }
   ],
   "source": [
    "studydesc_df.info()"
   ]
  },
  {
   "cell_type": "markdown",
   "id": "6e667a7a",
   "metadata": {},
   "source": [
    "## Pixel Spacing"
   ]
  },
  {
   "cell_type": "markdown",
   "id": "2719ebc7",
   "metadata": {},
   "source": [
    "Study if it's needed to determine a threshold for this value"
   ]
  },
  {
   "cell_type": "code",
   "execution_count": 600,
   "id": "15d70082",
   "metadata": {},
   "outputs": [
    {
     "data": {
      "text/plain": [
       "863"
      ]
     },
     "execution_count": 600,
     "metadata": {},
     "output_type": "execute_result"
    }
   ],
   "source": [
    "df.PixelSpacing.unique().size"
   ]
  },
  {
   "cell_type": "code",
   "execution_count": 604,
   "id": "9e6aa5cb",
   "metadata": {},
   "outputs": [
    {
     "data": {
      "text/plain": [
       "array(['[0.46875, 0.46875]', '[0.47265625, 0.47265625]', '[0.417, 0.417]',\n",
       "       '[0.456, 0.456]', '[0.517, 0.517]', '[0.430, 0.430]',\n",
       "       '[0.455078125, 0.455078125]', '[0.39086294416244, 0.390625]',\n",
       "       '[0.390625, 0.390625]', '[0.527000, 0.527000]', '[0.429, 0.429]',\n",
       "       '[0.451171875, 0.451171875]', '[0.454, 0.454]',\n",
       "       '[0.488281, 0.488281]', '[0.459, 0.459]', '[0.4296875, 0.4296875]',\n",
       "       '[0.38850174216028, 0.388671875]'], dtype=object)"
      ]
     },
     "execution_count": 604,
     "metadata": {},
     "output_type": "execute_result"
    }
   ],
   "source": [
    "solution_df.PixelSpacing.unique()"
   ]
  },
  {
   "cell_type": "code",
   "execution_count": 621,
   "id": "d167c1fe",
   "metadata": {},
   "outputs": [
    {
     "data": {
      "text/plain": [
       "array(['0.46875\\\\0.46875', '0.36156351791531\\\\0.361328125',\n",
       "       '0.25390625\\\\0.25390625', '0.48046875\\\\0.48046875',\n",
       "       '0.392578125\\\\0.392578125', '0.392578125\\\\0.39279869067103',\n",
       "       '0.396484375\\\\0.396484375', '0.37890625\\\\0.37890625',\n",
       "       '0.427734375\\\\0.427734375', '0.41030534351145\\\\0.41015625',\n",
       "       '0.33177570093458\\\\0.33203125', '0.515625\\\\0.515625',\n",
       "       '0.488281\\\\0.488281', '1.033203125\\\\1.033203125',\n",
       "       '1.029296875\\\\1.029296875', '0.51953125\\\\0.51953125',\n",
       "       '1.02734375\\\\1.02734375', '0.9765625\\\\0.9765625',\n",
       "       '1.03125\\\\1.03125', '0.978515625\\\\0.978515625',\n",
       "       '1.03515625\\\\1.03515625', '0.98046875\\\\0.98046875',\n",
       "       '0.541015625\\\\0.541015625', '0.533203125\\\\0.533203125',\n",
       "       '0.468\\\\0.468', '0.98828125\\\\0.98828125', '0.430\\\\0.430',\n",
       "       '0.47265625\\\\0.47265625', '0.456\\\\0.456', '0.527000\\\\0.527000',\n",
       "       '0.435546875\\\\0.435546875', '0.4296875\\\\0.4296875'], dtype=object)"
      ]
     },
     "execution_count": 621,
     "metadata": {},
     "output_type": "execute_result"
    }
   ],
   "source": [
    "studydesc_df.PixelSpacing.unique()"
   ]
  },
  {
   "cell_type": "code",
   "execution_count": 630,
   "id": "35122664",
   "metadata": {},
   "outputs": [],
   "source": [
    "def filter_pixel_spacing(value):\n",
    "    # Split the PixelSpacing string\n",
    "    values = value.split('\\\\')\n",
    "    \n",
    "    # Convert the split values into floats\n",
    "    val1 = float(values[0])\n",
    "    val2 = float(values[1])\n",
    "    \n",
    "    # Check if both values are less than or equal to 0.53\n",
    "    return val1 <= 0.53 and val2 <= 0.53"
   ]
  },
  {
   "cell_type": "code",
   "execution_count": 631,
   "id": "1413f73c",
   "metadata": {},
   "outputs": [],
   "source": [
    "pixelsp_df = studydesc_df[studydesc_df.PixelSpacing.apply(filter_pixel_spacing)]"
   ]
  },
  {
   "cell_type": "code",
   "execution_count": 632,
   "id": "df7ad5dd",
   "metadata": {},
   "outputs": [
    {
     "data": {
      "text/plain": [
       "287"
      ]
     },
     "execution_count": 632,
     "metadata": {},
     "output_type": "execute_result"
    }
   ],
   "source": [
    "pixelsp_df.PatientID.unique().size"
   ]
  },
  {
   "cell_type": "code",
   "execution_count": 634,
   "id": "53967cb1",
   "metadata": {},
   "outputs": [
    {
     "name": "stdout",
     "output_type": "stream",
     "text": [
      "<class 'pandas.core.frame.DataFrame'>\n",
      "Int64Index: 609 entries, 1 to 8393\n",
      "Data columns (total 10 columns):\n",
      " #   Column                   Non-Null Count  Dtype  \n",
      "---  ------                   --------------  -----  \n",
      " 0   PatientID                609 non-null    object \n",
      " 1   StudyInstanceUID         609 non-null    object \n",
      " 2   SeriesInstanceUID        609 non-null    object \n",
      " 3   StudyDescription         609 non-null    object \n",
      " 4   SeriesDescription        609 non-null    object \n",
      " 5   PixelSpacing             609 non-null    object \n",
      " 6   SliceThickness           609 non-null    float64\n",
      " 7   ConvolutionKernel        601 non-null    object \n",
      " 8   ImageOrientationPatient  609 non-null    object \n",
      " 9   Modality                 609 non-null    object \n",
      "dtypes: float64(1), object(9)\n",
      "memory usage: 52.3+ KB\n"
     ]
    }
   ],
   "source": [
    "pixelsp_df.info()"
   ]
  },
  {
   "cell_type": "markdown",
   "id": "1c9b6462",
   "metadata": {},
   "source": [
    "## Convolution Kernel"
   ]
  },
  {
   "cell_type": "code",
   "execution_count": 638,
   "id": "19654496",
   "metadata": {},
   "outputs": [
    {
     "data": {
      "text/plain": [
       "array(['T20f', 'J37s\\\\1', 'J70h\\\\1', 'Tr20f', 'Hc40s\\\\2', 'Br64s\\\\2', nan,\n",
       "       'T80f', 'H20f', 'Hr36d', 'H41s', 'H70h', 'Hr38s\\\\2', 'Br64s\\\\3',\n",
       "       'J37f\\\\1', 'Q40f\\\\1', 'Hr68h\\\\2', 'J30f\\\\2', 'T20s', 'H37s',\n",
       "       'H40s', 'STANDARD', 'BONE', 'H41f', 'UC', 'H31f', 'H60f',\n",
       "       'I30f\\\\3', 'I40f\\\\3', 'B30f', 'H31s', 'FC03', 'FL04', 'FL03',\n",
       "       'FC43', 'J37s\\\\3', 'J70h\\\\3', 'Hc40s', 'I40s\\\\3', 'B60s', 'B70s',\n",
       "       'Hc40s\\\\3', 'Bv36d\\\\3', 'Bv36d', 'LUNG', 'J37f\\\\3', 'H40f', 'H10s',\n",
       "       'I80s\\\\1', 'J40s\\\\2', 'I30f\\\\2', 'J30f\\\\3', 'H60s', '01', '54',\n",
       "       '42', '12', 'SOFT', 'FC21', 'FC30', 'J30s\\\\1', 'FC26', 'I40f\\\\2',\n",
       "       'B20f', 'FC68', 'FC35', 'BONEPLUS', 'FC41', 'H50s', 'FC64',\n",
       "       'Qr36d\\\\3', 'Qr40s\\\\2'], dtype=object)"
      ]
     },
     "execution_count": 638,
     "metadata": {},
     "output_type": "execute_result"
    }
   ],
   "source": [
    "df.ConvolutionKernel.unique() "
   ]
  },
  {
   "cell_type": "code",
   "execution_count": 639,
   "id": "d9104f2c",
   "metadata": {},
   "outputs": [
    {
     "data": {
      "text/plain": [
       "array([\"['J37s', '1']\", \"['J30s', '1']\", 'FC26', 'FC68', 'FC21', 'H31f',\n",
       "       'FC64', 'STANDARD', \"['J30f', '3']\"], dtype=object)"
      ]
     },
     "execution_count": 639,
     "metadata": {},
     "output_type": "execute_result"
    }
   ],
   "source": [
    "solution_df.ConvolutionKernel.unique()"
   ]
  },
  {
   "cell_type": "code",
   "execution_count": 663,
   "id": "089b8a46",
   "metadata": {},
   "outputs": [
    {
     "data": {
      "text/plain": [
       "array(['J37s\\\\1', 'J70h\\\\1', 'Hc40s\\\\2', 'Br64s\\\\2', 'H41s', 'H70h',\n",
       "       'Hr38s\\\\2', nan, 'J37f\\\\1', 'Q40f\\\\1', 'Hr68h\\\\2', 'H37s', 'H40s',\n",
       "       'STANDARD', 'BONE', 'H41f', 'Hc40s\\\\3', 'J40s\\\\2', 'J70h\\\\3', '54',\n",
       "       'FC21', 'J30s\\\\1', 'FC68', 'FC30', 'H31s', 'J30f\\\\3', 'H60f'],\n",
       "      dtype=object)"
      ]
     },
     "execution_count": 663,
     "metadata": {},
     "output_type": "execute_result"
    }
   ],
   "source": [
    "pixelsp_df.ConvolutionKernel.unique()"
   ]
  },
  {
   "cell_type": "markdown",
   "id": "62de34a5",
   "metadata": {},
   "source": [
    "## Further analysis, SeriesInstanceUID that are duplicated?"
   ]
  },
  {
   "cell_type": "markdown",
   "id": "20204ce0",
   "metadata": {},
   "source": [
    "This was determined not to be considered "
   ]
  },
  {
   "cell_type": "code",
   "execution_count": 641,
   "id": "2001a615",
   "metadata": {},
   "outputs": [],
   "source": [
    "filtered_df = df[~df.duplicated(subset=['SeriesInstanceUID'], keep='first')]"
   ]
  },
  {
   "cell_type": "code",
   "execution_count": 642,
   "id": "3ec7dc5d",
   "metadata": {},
   "outputs": [
    {
     "name": "stdout",
     "output_type": "stream",
     "text": [
      "<class 'pandas.core.frame.DataFrame'>\n",
      "Int64Index: 8299 entries, 0 to 8453\n",
      "Data columns (total 10 columns):\n",
      " #   Column                   Non-Null Count  Dtype  \n",
      "---  ------                   --------------  -----  \n",
      " 0   PatientID                8299 non-null   object \n",
      " 1   StudyInstanceUID         8299 non-null   object \n",
      " 2   SeriesInstanceUID        8299 non-null   object \n",
      " 3   StudyDescription         8299 non-null   object \n",
      " 4   SeriesDescription        8298 non-null   object \n",
      " 5   PixelSpacing             8213 non-null   object \n",
      " 6   SliceThickness           7267 non-null   float64\n",
      " 7   ConvolutionKernel        4943 non-null   object \n",
      " 8   ImageOrientationPatient  7565 non-null   object \n",
      " 9   Modality                 8299 non-null   object \n",
      "dtypes: float64(1), object(9)\n",
      "memory usage: 713.2+ KB\n"
     ]
    }
   ],
   "source": [
    "filtered_df.info()"
   ]
  },
  {
   "cell_type": "code",
   "execution_count": 643,
   "id": "7bb75dac",
   "metadata": {},
   "outputs": [
    {
     "data": {
      "text/plain": [
       "323"
      ]
     },
     "execution_count": 643,
     "metadata": {},
     "output_type": "execute_result"
    }
   ],
   "source": [
    "filtered_df.PatientID.unique().size"
   ]
  },
  {
   "cell_type": "code",
   "execution_count": 644,
   "id": "8b2950cf",
   "metadata": {},
   "outputs": [
    {
     "data": {
      "text/plain": [
       "502"
      ]
     },
     "execution_count": 644,
     "metadata": {},
     "output_type": "execute_result"
    }
   ],
   "source": [
    "filtered_df.StudyInstanceUID.unique().size"
   ]
  },
  {
   "cell_type": "code",
   "execution_count": 645,
   "id": "e40c46b5",
   "metadata": {},
   "outputs": [
    {
     "data": {
      "text/plain": [
       "{'D2', 'D44', 'D56'}"
      ]
     },
     "execution_count": 645,
     "metadata": {},
     "output_type": "execute_result"
    }
   ],
   "source": [
    "missing_patients = set(sfiltered_df.PatientID) - set(filtered_df.PatientID)\n",
    "missing_patients"
   ]
  },
  {
   "cell_type": "code",
   "execution_count": 646,
   "id": "7363650d",
   "metadata": {},
   "outputs": [],
   "source": [
    "# Get duplicate SeriesInstanceUIDs\n",
    "duplicate_series = filtered_df[filtered_df.SeriesInstanceUID.duplicated(keep=False)]\n",
    "\n",
    "# Extract the unique duplicate SeriesInstanceUID values\n",
    "unique_duplicate_series = duplicate_series.SeriesInstanceUID.unique()"
   ]
  },
  {
   "cell_type": "markdown",
   "id": "d8f4982d",
   "metadata": {},
   "source": [
    "## Compilation of Previous code - End of First Task"
   ]
  },
  {
   "cell_type": "code",
   "execution_count": 655,
   "id": "5ad0b5e7",
   "metadata": {},
   "outputs": [
    {
     "name": "stdout",
     "output_type": "stream",
     "text": [
      "<class 'pandas.core.frame.DataFrame'>\n",
      "Int64Index: 609 entries, 1 to 8393\n",
      "Data columns (total 10 columns):\n",
      " #   Column                   Non-Null Count  Dtype  \n",
      "---  ------                   --------------  -----  \n",
      " 0   PatientID                609 non-null    object \n",
      " 1   StudyInstanceUID         609 non-null    object \n",
      " 2   SeriesInstanceUID        609 non-null    object \n",
      " 3   StudyDescription         609 non-null    object \n",
      " 4   SeriesDescription        609 non-null    object \n",
      " 5   PixelSpacing             609 non-null    object \n",
      " 6   SliceThickness           609 non-null    float64\n",
      " 7   ConvolutionKernel        601 non-null    object \n",
      " 8   ImageOrientationPatient  609 non-null    object \n",
      " 9   Modality                 609 non-null    object \n",
      "dtypes: float64(1), object(9)\n",
      "memory usage: 52.3+ KB\n"
     ]
    }
   ],
   "source": [
    "import pandas as pd\n",
    "\n",
    "# Load the dataset with optimized memory usage\n",
    "df = pd.read_csv('data/part1_inventory_test.csv', low_memory=False)\n",
    "\n",
    "# Define the target columns to be used in the analysis\n",
    "target_columns = ['PatientID',\n",
    "                  'StudyInstanceUID',\n",
    "                  'SeriesInstanceUID',\n",
    "                  'StudyDescription',\n",
    "                  'SeriesDescription',\n",
    "                  'PixelSpacing',\n",
    "                  'SliceThickness',\n",
    "                  'ConvolutionKernel',\n",
    "                  'ImageOrientationPatient',\n",
    "                  'Modality']\n",
    "\n",
    "# Filter DataFrame to include only the target columns and remove columns with more than 30% missing values\n",
    "threshold = int(df.shape[0] * 0.3)\n",
    "df = df[target_columns].dropna(axis=1, thresh=threshold)\n",
    "\n",
    "# Filter for rows where the modality is 'CT' (Computed Tomography)\n",
    "df = df[df.Modality == 'CT']\n",
    "\n",
    "# Function to check if the ImageOrientationPatient values are within a tolerance of the target\n",
    "def tolerance(value, target, tolerance=0.1):\n",
    "    \"\"\"Check if the orientation components of `value` are within the specified tolerance of `target`.\"\"\"\n",
    "    if pd.isna(value):  # Handle missing values\n",
    "        return False\n",
    "    \n",
    "    # Convert value and target into lists of float components\n",
    "    components = list(map(float, str(value).split('\\\\')))\n",
    "    target_components = list(map(float, target.split('\\\\')))\n",
    "    \n",
    "    # Check if all components are within the tolerance range\n",
    "    return all(abs(comp - tgt) <= tolerance for comp, tgt in zip(components, target_components))\n",
    "\n",
    "# Define the target axial orientation to compare against\n",
    "target_orientation = '1\\\\0\\\\0\\\\0\\\\1\\\\0'\n",
    "\n",
    "# Filter based on closeness to the target axial orientation\n",
    "df = df[df.ImageOrientationPatient.apply(lambda x: tolerance(x, target_orientation))]\n",
    "\n",
    "# Filter rows where Slice Thickness is between 2.5 and 5 mm\n",
    "df = df[(df.SliceThickness >= 2.5) & (df.SliceThickness <= 5)]\n",
    "\n",
    "# Filter SeriesDescription to include only rows with 'head' or 'brain' (case insensitive)\n",
    "df = df[df.SeriesDescription.str.contains('head|brain', case=False, na=False)]\n",
    "\n",
    "# Filter StudyDescription to exclude rows with 'CTA HEAD' or 'Angio' (case insensitive)\n",
    "df = df[~df.StudyDescription.str.contains('angio|CTA HEAD', case=False, na=False)]\n",
    "\n",
    "# Function to filter PixelSpacing values where both components are less than or equal to 0.53 mm\n",
    "def filter_pixel_spacing(value):\n",
    "    \"\"\"Return True if both components of PixelSpacing are <= 0.53 mm, otherwise False.\"\"\"\n",
    "    try:\n",
    "        # Split the PixelSpacing into two values and convert them to floats\n",
    "        val1, val2 = map(float, value.split('\\\\'))\n",
    "    except (ValueError, AttributeError):\n",
    "        return False  # Handle any potential issues with missing or malformed data\n",
    "    \n",
    "    # Check if both values are less than or equal to the threshold (0.53 mm)\n",
    "    return val1 <= 0.53 and val2 <= 0.53\n",
    "\n",
    "# Apply PixelSpacing filter to keep rows with PixelSpacing <= 0.53 mm for both dimensions\n",
    "final_df = df[df.PixelSpacing.apply(filter_pixel_spacing)]\n",
    "\n",
    "# Display the resulting filtered DataFrame\n",
    "final_df.info()\n"
   ]
  },
  {
   "cell_type": "markdown",
   "id": "dd5405b6",
   "metadata": {},
   "source": [
    "## ETL Integration"
   ]
  },
  {
   "cell_type": "code",
   "execution_count": 656,
   "id": "085514f5",
   "metadata": {},
   "outputs": [
    {
     "name": "stderr",
     "output_type": "stream",
     "text": [
      "2024-10-08 17:20:28,514 - INFO - Extracting data from CSV file.\n",
      "2024-10-08 17:20:28,690 - INFO - Data extraction complete. Rows: 8454, Columns: 206\n",
      "2024-10-08 17:20:28,691 - INFO - Starting data transformation.\n",
      "2024-10-08 17:20:28,740 - INFO - Data transformation complete. Rows after transformation: 609\n",
      "2024-10-08 17:20:28,741 - INFO - Loading data to data/transformed_inventory_data.csv.\n",
      "2024-10-08 17:20:28,766 - INFO - Data loading complete.\n"
     ]
    }
   ],
   "source": [
    "import pandas as pd\n",
    "import logging\n",
    "\n",
    "# Set up logging for the ETL process\n",
    "logging.basicConfig(level=logging.INFO, format='%(asctime)s - %(levelname)s - %(message)s')\n",
    "\n",
    "def extract_data(file_path):\n",
    "    \"\"\"Extract data from CSV file.\"\"\"\n",
    "    try:\n",
    "        logging.info(\"Extracting data from CSV file.\")\n",
    "        df = pd.read_csv(file_path, low_memory=False)\n",
    "        logging.info(f\"Data extraction complete. Rows: {df.shape[0]}, Columns: {df.shape[1]}\")\n",
    "        return df\n",
    "    except Exception as e:\n",
    "        logging.error(f\"Error during data extraction: {e}\")\n",
    "        raise\n",
    "\n",
    "def transform_data(df):\n",
    "    \"\"\"Transform the data by filtering and processing.\"\"\"\n",
    "    logging.info(\"Starting data transformation.\")\n",
    "\n",
    "    # Define the target columns to be used in the analysis\n",
    "    target_columns = ['PatientID',\n",
    "                      'StudyInstanceUID',\n",
    "                      'SeriesInstanceUID',\n",
    "                      'StudyDescription',\n",
    "                      'SeriesDescription',\n",
    "                      'PixelSpacing',\n",
    "                      'SliceThickness',\n",
    "                      'ConvolutionKernel',\n",
    "                      'ImageOrientationPatient',\n",
    "                      'Modality']\n",
    "\n",
    "    # Filter DataFrame to include only the target columns and remove columns with more than 30% missing values\n",
    "    threshold = int(df.shape[0] * 0.3)\n",
    "    df = df[target_columns].dropna(axis=1, thresh=threshold)\n",
    "\n",
    "    # Filter for rows where the modality is 'CT'\n",
    "    df = df[df.Modality == 'CT']\n",
    "\n",
    "    # Function to check if the ImageOrientationPatient values are within a tolerance of the target\n",
    "    def tolerance(value, target, tolerance=0.1):\n",
    "        if pd.isna(value):\n",
    "            return False\n",
    "        components = list(map(float, str(value).split('\\\\')))\n",
    "        target_components = list(map(float, target.split('\\\\')))\n",
    "        return all(abs(comp - tgt) <= tolerance for comp, tgt in zip(components, target_components))\n",
    "\n",
    "    # Target orientation to compare against\n",
    "    target_orientation = '1\\\\0\\\\0\\\\0\\\\1\\\\0'\n",
    "    df = df[df.ImageOrientationPatient.apply(lambda x: tolerance(x, target_orientation))]\n",
    "\n",
    "    # Filter rows where Slice Thickness is between 2.5 and 5 mm\n",
    "    df = df[(df.SliceThickness >= 2.5) & (df.SliceThickness <= 5)]\n",
    "\n",
    "    # Filter SeriesDescription to include only rows with 'head' or 'brain'\n",
    "    df = df[df.SeriesDescription.str.contains('head|brain', case=False, na=False)]\n",
    "\n",
    "    # Filter StudyDescription to exclude rows with 'CTA HEAD' or 'Angio'\n",
    "    df = df[~df.StudyDescription.str.contains('angio|CTA HEAD', case=False, na=False)]\n",
    "\n",
    "    # Function to filter PixelSpacing values\n",
    "    def filter_pixel_spacing(value):\n",
    "        try:\n",
    "            val1, val2 = map(float, value.split('\\\\'))\n",
    "        except (ValueError, AttributeError):\n",
    "            return False\n",
    "        return val1 <= 0.53 and val2 <= 0.53\n",
    "\n",
    "    # Apply PixelSpacing filter\n",
    "    df = df[df.PixelSpacing.apply(filter_pixel_spacing)]\n",
    "\n",
    "    logging.info(f\"Data transformation complete. Rows after transformation: {df.shape[0]}\")\n",
    "    return df\n",
    "\n",
    "def load_data(df, output_file):\n",
    "    \"\"\"Load transformed data to a CSV file.\"\"\"\n",
    "    try:\n",
    "        logging.info(f\"Loading data to {output_file}.\")\n",
    "        df.to_csv(output_file, index=False)\n",
    "        logging.info(\"Data loading complete.\")\n",
    "    except Exception as e:\n",
    "        logging.error(f\"Error during data loading: {e}\")\n",
    "        raise\n",
    "\n",
    "def main():\n",
    "    \"\"\"Main ETL function to orchestrate the process.\"\"\"\n",
    "    input_file = 'data/part1_inventory_test.csv'\n",
    "    output_file = 'data/transformed_inventory_data.csv'\n",
    "    \n",
    "    # Extract, Transform, Load process\n",
    "    try:\n",
    "        df = extract_data(input_file)\n",
    "        transformed_df = transform_data(df)\n",
    "        load_data(transformed_df, output_file)\n",
    "    except Exception as e:\n",
    "        logging.error(f\"ETL process failed: {e}\")\n",
    "\n",
    "if __name__ == \"__main__\":\n",
    "    main()\n"
   ]
  },
  {
   "cell_type": "markdown",
   "id": "30c14725",
   "metadata": {},
   "source": [
    "# Analysis"
   ]
  },
  {
   "cell_type": "code",
   "execution_count": null,
   "id": "53c21cf9",
   "metadata": {},
   "outputs": [],
   "source": [
    "import pandas as pd"
   ]
  },
  {
   "cell_type": "code",
   "execution_count": 659,
   "id": "d207541f",
   "metadata": {},
   "outputs": [],
   "source": [
    "file_path = 'data/part2_inferences.csv'"
   ]
  },
  {
   "cell_type": "code",
   "execution_count": 660,
   "id": "c326aed6",
   "metadata": {},
   "outputs": [],
   "source": [
    "df2 = pd.read_csv(file_path, low_memory=False)"
   ]
  },
  {
   "cell_type": "code",
   "execution_count": 674,
   "id": "0eb3e210",
   "metadata": {},
   "outputs": [
    {
     "data": {
      "text/html": [
       "<div>\n",
       "<style scoped>\n",
       "    .dataframe tbody tr th:only-of-type {\n",
       "        vertical-align: middle;\n",
       "    }\n",
       "\n",
       "    .dataframe tbody tr th {\n",
       "        vertical-align: top;\n",
       "    }\n",
       "\n",
       "    .dataframe thead th {\n",
       "        text-align: right;\n",
       "    }\n",
       "</style>\n",
       "<table border=\"1\" class=\"dataframe\">\n",
       "  <thead>\n",
       "    <tr style=\"text-align: right;\">\n",
       "      <th></th>\n",
       "      <th>Patient_name</th>\n",
       "      <th>Model_1</th>\n",
       "      <th>Model_2</th>\n",
       "      <th>Ground_truth</th>\n",
       "    </tr>\n",
       "  </thead>\n",
       "  <tbody>\n",
       "    <tr>\n",
       "      <th>17</th>\n",
       "      <td>K80</td>\n",
       "      <td>0.524756</td>\n",
       "      <td>0.802197</td>\n",
       "      <td>0</td>\n",
       "    </tr>\n",
       "    <tr>\n",
       "      <th>32</th>\n",
       "      <td>K67</td>\n",
       "      <td>0.065052</td>\n",
       "      <td>0.330898</td>\n",
       "      <td>1</td>\n",
       "    </tr>\n",
       "    <tr>\n",
       "      <th>42</th>\n",
       "      <td>G136</td>\n",
       "      <td>0.034389</td>\n",
       "      <td>0.760785</td>\n",
       "      <td>1</td>\n",
       "    </tr>\n",
       "    <tr>\n",
       "      <th>44</th>\n",
       "      <td>K50</td>\n",
       "      <td>0.258780</td>\n",
       "      <td>0.770967</td>\n",
       "      <td>0</td>\n",
       "    </tr>\n",
       "    <tr>\n",
       "      <th>45</th>\n",
       "      <td>G116</td>\n",
       "      <td>0.662522</td>\n",
       "      <td>0.493796</td>\n",
       "      <td>1</td>\n",
       "    </tr>\n",
       "  </tbody>\n",
       "</table>\n",
       "</div>"
      ],
      "text/plain": [
       "   Patient_name   Model_1   Model_2  Ground_truth\n",
       "17          K80  0.524756  0.802197             0\n",
       "32          K67  0.065052  0.330898             1\n",
       "42         G136  0.034389  0.760785             1\n",
       "44          K50  0.258780  0.770967             0\n",
       "45         G116  0.662522  0.493796             1"
      ]
     },
     "execution_count": 674,
     "metadata": {},
     "output_type": "execute_result"
    }
   ],
   "source": [
    "df2[~df2.Patient_name.isin(pixelsp_df.PatientID)]"
   ]
  },
  {
   "cell_type": "code",
   "execution_count": 712,
   "id": "1a8a3c76",
   "metadata": {},
   "outputs": [
    {
     "data": {
      "text/plain": [
       "array(['0\\\\1\\\\0\\\\0\\\\0\\\\-1',\n",
       "       '1\\\\0\\\\0\\\\0\\\\0.99254615164132\\\\-0.1218693434051',\n",
       "       '0.99416247517374\\\\-0.007978126208\\\\0.10759796679597\\\\-0.000924026793\\\\0.99659619588001\\\\0.082432812229',\n",
       "       '0.99416247517374\\\\-0.007978126208\\\\0.10759796679597\\\\0.10788938376703\\\\0.08205103823703\\\\-0.9907711683303',\n",
       "       '-0.000924027214\\\\0.99659619588342\\\\0.08243281218303\\\\0.10788938337703\\\\0.08205103204803\\\\-0.9907711688853'],\n",
       "      dtype=object)"
      ]
     },
     "execution_count": 712,
     "metadata": {},
     "output_type": "execute_result"
    }
   ],
   "source": [
    "df[df.PatientID == 'K50'].ImageOrientationPatient.unique()"
   ]
  },
  {
   "cell_type": "code",
   "execution_count": 713,
   "id": "7cb38071",
   "metadata": {},
   "outputs": [
    {
     "data": {
      "text/plain": [
       "array(['Topogram__0_6__T20s', 'Head__5_0__J37s__1', 'Head__3_0__J70h__1',\n",
       "       'Head__5_0__Axial', 'Head__5_0__Coronal', 'Head__5_0__Sagittal'],\n",
       "      dtype=object)"
      ]
     },
     "execution_count": 713,
     "metadata": {},
     "output_type": "execute_result"
    }
   ],
   "source": [
    "df[df.PatientID == 'K50'].SeriesDescription.unique()"
   ]
  },
  {
   "cell_type": "code",
   "execution_count": 714,
   "id": "b6ab04cc",
   "metadata": {},
   "outputs": [
    {
     "data": {
      "text/plain": [
       "array(['CT BRAIN WO CONTRAST (70450)'], dtype=object)"
      ]
     },
     "execution_count": 714,
     "metadata": {},
     "output_type": "execute_result"
    }
   ],
   "source": [
    "df[df.PatientID == 'K50'].StudyDescription.unique()"
   ]
  },
  {
   "cell_type": "code",
   "execution_count": 715,
   "id": "018a3c4e",
   "metadata": {},
   "outputs": [
    {
     "data": {
      "text/plain": [
       "array(['1\\\\1', '0.46875\\\\0.46875', '0.3828125\\\\0.3828125',\n",
       "       '0.32421875\\\\0.32397003745318', '0.32421875\\\\0.32396694214876'],\n",
       "      dtype=object)"
      ]
     },
     "execution_count": 715,
     "metadata": {},
     "output_type": "execute_result"
    }
   ],
   "source": [
    "df[df.PatientID == 'K50'].PixelSpacing.unique()"
   ]
  },
  {
   "cell_type": "code",
   "execution_count": null,
   "id": "dc70e43d",
   "metadata": {},
   "outputs": [],
   "source": []
  },
  {
   "cell_type": "code",
   "execution_count": null,
   "id": "a6891408",
   "metadata": {},
   "outputs": [],
   "source": []
  },
  {
   "cell_type": "code",
   "execution_count": null,
   "id": "de07e710",
   "metadata": {},
   "outputs": [],
   "source": []
  },
  {
   "cell_type": "code",
   "execution_count": null,
   "id": "f9aed105",
   "metadata": {},
   "outputs": [],
   "source": []
  }
 ],
 "metadata": {
  "kernelspec": {
   "display_name": "Python 3 (ipykernel)",
   "language": "python",
   "name": "python3"
  },
  "language_info": {
   "codemirror_mode": {
    "name": "ipython",
    "version": 3
   },
   "file_extension": ".py",
   "mimetype": "text/x-python",
   "name": "python",
   "nbconvert_exporter": "python",
   "pygments_lexer": "ipython3",
   "version": "3.10.6"
  },
  "toc": {
   "base_numbering": 1,
   "nav_menu": {},
   "number_sections": true,
   "sideBar": true,
   "skip_h1_title": false,
   "title_cell": "Table of Contents",
   "title_sidebar": "Contents",
   "toc_cell": false,
   "toc_position": {},
   "toc_section_display": true,
   "toc_window_display": false
  }
 },
 "nbformat": 4,
 "nbformat_minor": 5
}
